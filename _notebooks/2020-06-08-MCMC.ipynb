{
 "cells": [
  {
   "cell_type": "markdown",
   "metadata": {},
   "source": [
    "# \"MCMC From Scratch II: Markov Chain Monte Carlo\"\n",
    "> \"Introducing Markov Chain Monte Carlo with the Metropolis-Hastings algorithm\""
   ]
  },
  {
   "cell_type": "markdown",
   "metadata": {},
   "source": [
    "In the previous notebook, we introduced the Eight schools problem and approached it using Bayesian statistics. The fundamental question was \"how do we adjust the effect estimate for school A (which was very high) in light of what we know about the other schools?\" This amounted to building a model with the parameter `t`, the \"true\" effect size per school. Our model also included hyperparameters `mu` and `sigma`.\n",
    "\n",
    "Picking up where we left off, we had found a probability proportion for the parameters `t`, `mu`, and `sigma`, and were left with the issue of using this probability proportion to sample from the 10-dimensional distribution. The promise then was that this would all be made possible using Markov Chain Monte Carlo (MCMC) methods. This notebook is here to fulfill that promise."
   ]
  },
  {
   "cell_type": "code",
   "execution_count": 1,
   "metadata": {},
   "outputs": [
    {
     "data": {
      "text/plain": [
       "DataTransformerRegistry.enable('json_dir')"
      ]
     },
     "execution_count": 1,
     "metadata": {},
     "output_type": "execute_result"
    }
   ],
   "source": [
    "import numpy as np\n",
    "import altair as alt\n",
    "import pandas as pd\n",
    "from scipy.stats import norm, uniform\n",
    "\n",
    "from mcmc import json_dir, visualize_simulation, transition_MH_trace, simulate_trace, generate_sample, make_2d_histogram\n",
    "\n",
    "alt.data_transformers.register('json_dir', json_dir)\n",
    "alt.data_transformers.enable('json_dir', data_dir='/altairdata')"
   ]
  },
  {
   "cell_type": "code",
   "execution_count": 2,
   "metadata": {},
   "outputs": [],
   "source": [
    "effect_estimates = np.array([28, 8, -3, 7, -1, 1, 18, 12])\n",
    "std_estimates = np.array([15, 10, 16, 11, 9, 11, 10, 18])\n",
    "school_names = [\"A\", \"B\", \"C\", \"D\", \"E\", \"F\", \"G\", \"H\"]\n",
    "\n",
    "df = pd.DataFrame({\"effect_estimate\": effect_estimates,\n",
    "                   \"std_estimate\": std_estimates,\n",
    "                  \"school\": school_names})\n",
    "\n",
    "def p_prop(t, mu, sigma):\n",
    "    p_mu = norm.pdf(mu, loc=8.75, scale=20)\n",
    "    p_sigma = uniform.pdf(sigma, loc=0, scale=100)\n",
    "    p_t_mu_sigma = norm.pdf(t, loc=mu, scale=sigma)\n",
    "    p_ee_t = norm.pdf(effect_estimates, loc=t, scale=std_estimates).prod()\n",
    "    return p_ee_t * p_t_mu_sigma * p_mu * p_sigma"
   ]
  },
  {
   "cell_type": "markdown",
   "metadata": {},
   "source": [
    "# What is a Markov Chain, anyway?\n",
    "Fundamentally, a Markov chain can be described as a \"random walk through space\". It some starting point. At each timestep, we look where we are, and decide to move somewhere else (or stay on the same spot), dependent *only on where we are*. Put differently, the next step only depends on our current location, not where we've been before that.  \n",
    "\n",
    "Seeing is believing, so below an example. In this case, we are walking through a 2d-space."
   ]
  },
  {
   "cell_type": "code",
   "execution_count": 3,
   "metadata": {},
   "outputs": [
    {
     "data": {
      "text/html": [
       "\n",
       "<div id=\"altair-viz-9f35725ca1fc4d6891b9075f18df8d31\"></div>\n",
       "<script type=\"text/javascript\">\n",
       "  (function(spec, embedOpt){\n",
       "    let outputDiv = document.currentScript.previousElementSibling;\n",
       "    if (outputDiv.id !== \"altair-viz-9f35725ca1fc4d6891b9075f18df8d31\") {\n",
       "      outputDiv = document.getElementById(\"altair-viz-9f35725ca1fc4d6891b9075f18df8d31\");\n",
       "    }\n",
       "    const paths = {\n",
       "      \"vega\": \"https://cdn.jsdelivr.net/npm//vega@5?noext\",\n",
       "      \"vega-lib\": \"https://cdn.jsdelivr.net/npm//vega-lib?noext\",\n",
       "      \"vega-lite\": \"https://cdn.jsdelivr.net/npm//vega-lite@4.8.1?noext\",\n",
       "      \"vega-embed\": \"https://cdn.jsdelivr.net/npm//vega-embed@6?noext\",\n",
       "    };\n",
       "\n",
       "    function loadScript(lib) {\n",
       "      return new Promise(function(resolve, reject) {\n",
       "        var s = document.createElement('script');\n",
       "        s.src = paths[lib];\n",
       "        s.async = true;\n",
       "        s.onload = () => resolve(paths[lib]);\n",
       "        s.onerror = () => reject(`Error loading script: ${paths[lib]}`);\n",
       "        document.getElementsByTagName(\"head\")[0].appendChild(s);\n",
       "      });\n",
       "    }\n",
       "\n",
       "    function showError(err) {\n",
       "      outputDiv.innerHTML = `<div class=\"error\" style=\"color:red;\">${err}</div>`;\n",
       "      throw err;\n",
       "    }\n",
       "\n",
       "    function displayChart(vegaEmbed) {\n",
       "      vegaEmbed(outputDiv, spec, embedOpt)\n",
       "        .catch(err => showError(`Javascript Error: ${err.message}<br>This usually means there's a typo in your chart specification. See the javascript console for the full traceback.`));\n",
       "    }\n",
       "\n",
       "    if(typeof define === \"function\" && define.amd) {\n",
       "      requirejs.config({paths});\n",
       "      require([\"vega-embed\"], displayChart, err => showError(`Error loading script: ${err.message}`));\n",
       "    } else if (typeof vegaEmbed === \"function\") {\n",
       "      displayChart(vegaEmbed);\n",
       "    } else {\n",
       "      loadScript(\"vega\")\n",
       "        .then(() => loadScript(\"vega-lite\"))\n",
       "        .then(() => loadScript(\"vega-embed\"))\n",
       "        .catch(showError)\n",
       "        .then(() => displayChart(vegaEmbed));\n",
       "    }\n",
       "  })({\"config\": {\"view\": {\"continuousWidth\": 400, \"continuousHeight\": 300}}, \"data\": {\"url\": \"/altairdata/altair-data-e4a2c50bb4514c6f92701397cef62e62.json\", \"format\": {\"type\": \"json\"}}, \"facet\": {\"type\": \"quantitative\", \"field\": \"simulation\"}, \"spec\": {\"mark\": \"point\", \"encoding\": {\"opacity\": {\"condition\": {\"value\": 1, \"test\": \"(datum.i < iteration.i)\"}, \"value\": 0}, \"order\": {\"type\": \"quantitative\", \"field\": \"i\"}, \"x\": {\"type\": \"quantitative\", \"field\": \"x0\", \"scale\": {\"domain\": [-22.0, 14.0]}}, \"y\": {\"type\": \"quantitative\", \"field\": \"x1\", \"scale\": {\"domain\": [-5.0, 17.0]}}}, \"selection\": {\"iteration\": {\"type\": \"single\", \"fields\": [\"i\"], \"bind\": {\"input\": \"range\", \"max\": 100, \"min\": 1, \"step\": 1}, \"init\": {\"i\": 1}}}}, \"columns\": 2, \"$schema\": \"https://vega.github.io/schema/vega-lite/v4.8.1.json\"}, {\"mode\": \"vega-lite\"});\n",
       "</script>"
      ],
      "text/plain": [
       "alt.FacetChart(...)"
      ]
     },
     "execution_count": 3,
     "metadata": {},
     "output_type": "execute_result"
    }
   ],
   "source": [
    "def transition(q):  # We always use q for the current point in these notebooks\n",
    "    x, y = q  # Unpack coordinates\n",
    "    step_x = np.random.choice([1, -1])  # Right or left with probability 0.5\n",
    "    step_y = np.random.choice([1, -1])  # Up or down with probability 0.5\n",
    "    return (x+step_x, y+step_y)\n",
    "\n",
    "def simulate(initial, transition, n_iter=100):\n",
    "    result = [initial]\n",
    "    for _ in range(n_iter):\n",
    "        result.append(transition(result[-1]))\n",
    "        \n",
    "    # Bookkeeping\n",
    "    n_dim = len(initial)\n",
    "    result = pd.DataFrame(result[1:],\n",
    "                          columns=[f\"x{i}\" for i in range(n_dim)],\n",
    "                          index=range(n_iter))\n",
    "    result.index.name = \"i\"\n",
    "    return result\n",
    "\n",
    "def simulate_multiple(initial_points, transition, n_iter=100):\n",
    "    \"\"\"\n",
    "    Runs multiple markov chains using simulate(p, transition, n_iter),\n",
    "    one for every point p in initial_points.\n",
    "    \"\"\"\n",
    "    return pd.concat([simulate(initial, transition, n_iter) for initial in initial_points],\n",
    "                     keys=range(len(initial_points)),\n",
    "                     names=[\"simulation\", \"i\"],\n",
    "                     axis=0).reset_index()\n",
    "\n",
    "\n",
    "df = simulate_multiple([(0, 0) for _ in range(4)], transition, n_iter=100)\n",
    "visualize_simulation(df).facet(facet=\"simulation\", columns=2)"
   ]
  },
  {
   "cell_type": "markdown",
   "metadata": {},
   "source": [
    "# Metropolis-Hastings\n",
    "By writing the transition function well, we can create a Markov chain that explores a probability distribution, without having to calculate any normalizing constants. The earliest known algorithm for this is the Metropolis-Hastings algorithm.\n",
    "The only requirement of the algorithm is that we know the probability *proportion* which we write by `p_prop`. The transition function works as follows:\n",
    "1. Generate a proposal for the next point, by drawing from a normal distribution centered at the current point. \n",
    "2. Calculate the probability ratio between the proposal and the current point. (The normalizing factor cancels out here so it's sufficient to have `p_prop`.) This will be high if the proposal has a higher probability than the current point.\n",
    "3. Draw a random number between 0 and 1.\n",
    "4. If the random number is less than the probability ratio, we accept the proposal. Else we don't move.\n",
    "\n",
    "In code:"
   ]
  },
  {
   "cell_type": "code",
   "execution_count": 4,
   "metadata": {},
   "outputs": [],
   "source": [
    "def transition_MH(current, p_prop, scale=0.1):\n",
    "    proposal = norm.rvs(loc=current, scale=scale)\n",
    "    u = uniform.rvs()\n",
    "    return proposal if u <= p_prop(proposal)/p_prop(current) else current"
   ]
  },
  {
   "cell_type": "markdown",
   "metadata": {},
   "source": [
    "To see this in action, we use a slightly simpler example: we assume all standard deviations to be 1 and only consider the effect size of one school, which is, say, 0.3. Then the model we have (note the \"proportional to\"-sign!) for this one school is that\n",
    "\n",
    "$$p(t, \\mu \\mid \\mathtt{effect\\_estimates}) \\propto p(\\mathtt{effect\\_estimates} \\mid t) \\cdot p(t \\mid \\mu) \\cdot p(\\mu)$$\n",
    "\n",
    "In code:"
   ]
  },
  {
   "cell_type": "code",
   "execution_count": 5,
   "metadata": {},
   "outputs": [],
   "source": [
    "def p_prop(q):\n",
    "    t, mu = q  # Unpack arguments\n",
    "    \n",
    "    p_mu = norm.pdf(mu, loc=3, scale=1)\n",
    "    p_t_mu = norm.pdf(t, loc=mu, scale=1)\n",
    "    p_ee_t = norm.pdf(0.3, loc=t, scale=1)\n",
    "    \n",
    "    return p_ee_t * p_t_mu * p_mu"
   ]
  },
  {
   "cell_type": "markdown",
   "metadata": {},
   "source": [
    "We use a tracing simulation to provide is with some info. It works just the same as the `transition_MH` function derived above."
   ]
  },
  {
   "cell_type": "code",
   "execution_count": 6,
   "metadata": {},
   "outputs": [
    {
     "data": {
      "text/html": [
       "<div>\n",
       "<style scoped>\n",
       "    .dataframe tbody tr th:only-of-type {\n",
       "        vertical-align: middle;\n",
       "    }\n",
       "\n",
       "    .dataframe tbody tr th {\n",
       "        vertical-align: top;\n",
       "    }\n",
       "\n",
       "    .dataframe thead th {\n",
       "        text-align: right;\n",
       "    }\n",
       "</style>\n",
       "<table border=\"1\" class=\"dataframe\">\n",
       "  <thead>\n",
       "    <tr style=\"text-align: right;\">\n",
       "      <th></th>\n",
       "      <th>i</th>\n",
       "      <th>x0</th>\n",
       "      <th>x1</th>\n",
       "      <th>current</th>\n",
       "      <th>f_current</th>\n",
       "      <th>proposal</th>\n",
       "      <th>f_proposal</th>\n",
       "      <th>u</th>\n",
       "    </tr>\n",
       "  </thead>\n",
       "  <tbody>\n",
       "    <tr>\n",
       "      <th>0</th>\n",
       "      <td>0</td>\n",
       "      <td>0.0</td>\n",
       "      <td>0.0</td>\n",
       "      <td>(0, 0)</td>\n",
       "      <td>0.000000</td>\n",
       "      <td>(0, 0)</td>\n",
       "      <td>0.000000</td>\n",
       "      <td>0.000000</td>\n",
       "    </tr>\n",
       "    <tr>\n",
       "      <th>1</th>\n",
       "      <td>1</td>\n",
       "      <td>0.0</td>\n",
       "      <td>0.0</td>\n",
       "      <td>(0, 0)</td>\n",
       "      <td>0.000674</td>\n",
       "      <td>[-1.8489284346591206, 0.6836315761184948]</td>\n",
       "      <td>0.000017</td>\n",
       "      <td>0.228078</td>\n",
       "    </tr>\n",
       "    <tr>\n",
       "      <th>2</th>\n",
       "      <td>2</td>\n",
       "      <td>0.0</td>\n",
       "      <td>0.0</td>\n",
       "      <td>(0, 0)</td>\n",
       "      <td>0.000674</td>\n",
       "      <td>[2.2169675743945847, 0.0644415335569206]</td>\n",
       "      <td>0.000013</td>\n",
       "      <td>0.547593</td>\n",
       "    </tr>\n",
       "    <tr>\n",
       "      <th>3</th>\n",
       "      <td>3</td>\n",
       "      <td>0.0</td>\n",
       "      <td>0.0</td>\n",
       "      <td>(0, 0)</td>\n",
       "      <td>0.000674</td>\n",
       "      <td>[0.9171650385565093, -0.46792119534142007]</td>\n",
       "      <td>0.000049</td>\n",
       "      <td>0.762075</td>\n",
       "    </tr>\n",
       "    <tr>\n",
       "      <th>4</th>\n",
       "      <td>4</td>\n",
       "      <td>0.0</td>\n",
       "      <td>0.0</td>\n",
       "      <td>(0, 0)</td>\n",
       "      <td>0.000674</td>\n",
       "      <td>[-1.203043882456486, 0.32471158912139797]</td>\n",
       "      <td>0.000178</td>\n",
       "      <td>0.916377</td>\n",
       "    </tr>\n",
       "  </tbody>\n",
       "</table>\n",
       "</div>"
      ],
      "text/plain": [
       "   i   x0   x1 current  f_current                                    proposal  \\\n",
       "0  0  0.0  0.0  (0, 0)   0.000000                                      (0, 0)   \n",
       "1  1  0.0  0.0  (0, 0)   0.000674   [-1.8489284346591206, 0.6836315761184948]   \n",
       "2  2  0.0  0.0  (0, 0)   0.000674    [2.2169675743945847, 0.0644415335569206]   \n",
       "3  3  0.0  0.0  (0, 0)   0.000674  [0.9171650385565093, -0.46792119534142007]   \n",
       "4  4  0.0  0.0  (0, 0)   0.000674   [-1.203043882456486, 0.32471158912139797]   \n",
       "\n",
       "   f_proposal         u  \n",
       "0    0.000000  0.000000  \n",
       "1    0.000017  0.228078  \n",
       "2    0.000013  0.547593  \n",
       "3    0.000049  0.762075  \n",
       "4    0.000178  0.916377  "
      ]
     },
     "execution_count": 6,
     "metadata": {},
     "output_type": "execute_result"
    }
   ],
   "source": [
    "transition = lambda current: transition_MH_trace(current, p_prop, scale=1)\n",
    "df, info = simulate_trace((0, 0), transition, n_iter=100)\n",
    "df = df.join(info).reset_index()\n",
    "df.head()"
   ]
  },
  {
   "cell_type": "markdown",
   "metadata": {},
   "source": [
    "Now we make an interactive chart. The code here is *just* for plotting, so you can safely skip over it to look at the picture."
   ]
  },
  {
   "cell_type": "code",
   "execution_count": 7,
   "metadata": {},
   "outputs": [
    {
     "data": {
      "text/html": [
       "\n",
       "<div id=\"altair-viz-7945092763b241f4a8e7bea30108df14\"></div>\n",
       "<script type=\"text/javascript\">\n",
       "  (function(spec, embedOpt){\n",
       "    let outputDiv = document.currentScript.previousElementSibling;\n",
       "    if (outputDiv.id !== \"altair-viz-7945092763b241f4a8e7bea30108df14\") {\n",
       "      outputDiv = document.getElementById(\"altair-viz-7945092763b241f4a8e7bea30108df14\");\n",
       "    }\n",
       "    const paths = {\n",
       "      \"vega\": \"https://cdn.jsdelivr.net/npm//vega@5?noext\",\n",
       "      \"vega-lib\": \"https://cdn.jsdelivr.net/npm//vega-lib?noext\",\n",
       "      \"vega-lite\": \"https://cdn.jsdelivr.net/npm//vega-lite@4.8.1?noext\",\n",
       "      \"vega-embed\": \"https://cdn.jsdelivr.net/npm//vega-embed@6?noext\",\n",
       "    };\n",
       "\n",
       "    function loadScript(lib) {\n",
       "      return new Promise(function(resolve, reject) {\n",
       "        var s = document.createElement('script');\n",
       "        s.src = paths[lib];\n",
       "        s.async = true;\n",
       "        s.onload = () => resolve(paths[lib]);\n",
       "        s.onerror = () => reject(`Error loading script: ${paths[lib]}`);\n",
       "        document.getElementsByTagName(\"head\")[0].appendChild(s);\n",
       "      });\n",
       "    }\n",
       "\n",
       "    function showError(err) {\n",
       "      outputDiv.innerHTML = `<div class=\"error\" style=\"color:red;\">${err}</div>`;\n",
       "      throw err;\n",
       "    }\n",
       "\n",
       "    function displayChart(vegaEmbed) {\n",
       "      vegaEmbed(outputDiv, spec, embedOpt)\n",
       "        .catch(err => showError(`Javascript Error: ${err.message}<br>This usually means there's a typo in your chart specification. See the javascript console for the full traceback.`));\n",
       "    }\n",
       "\n",
       "    if(typeof define === \"function\" && define.amd) {\n",
       "      requirejs.config({paths});\n",
       "      require([\"vega-embed\"], displayChart, err => showError(`Error loading script: ${err.message}`));\n",
       "    } else if (typeof vegaEmbed === \"function\") {\n",
       "      displayChart(vegaEmbed);\n",
       "    } else {\n",
       "      loadScript(\"vega\")\n",
       "        .then(() => loadScript(\"vega-lite\"))\n",
       "        .then(() => loadScript(\"vega-embed\"))\n",
       "        .catch(showError)\n",
       "        .then(() => displayChart(vegaEmbed));\n",
       "    }\n",
       "  })({\"config\": {\"view\": {\"continuousWidth\": 400, \"continuousHeight\": 300}}, \"hconcat\": [{\"layer\": [{\"mark\": {\"type\": \"point\", \"opacity\": 0.7}, \"encoding\": {\"opacity\": {\"condition\": {\"value\": 1, \"test\": \"(datum.i < iteration.i)\"}, \"value\": 0}, \"order\": {\"type\": \"quantitative\", \"field\": \"i\"}, \"tooltip\": [{\"type\": \"quantitative\", \"field\": \"x0\"}, {\"type\": \"quantitative\", \"field\": \"x1\"}], \"x\": {\"type\": \"quantitative\", \"field\": \"x0\", \"scale\": {\"domain\": [-1.8489284346591206, 3.9978920571631242]}}, \"y\": {\"type\": \"quantitative\", \"field\": \"x1\", \"scale\": {\"domain\": [-1.5899090685710509, 4.858710222841365]}}}, \"selection\": {\"iteration\": {\"type\": \"single\", \"fields\": [\"i\"], \"bind\": {\"input\": \"range\", \"max\": 100, \"min\": 1, \"step\": 1}, \"init\": {\"i\": 1}}}}, {\"mark\": {\"type\": \"point\", \"color\": \"red\", \"filled\": true, \"size\": 50}, \"encoding\": {\"color\": {\"condition\": {\"value\": \"blue\", \"test\": \"(datum.ratio > datum.u)\"}, \"value\": \"red\"}, \"tooltip\": [{\"type\": \"quantitative\", \"field\": \"proposal_x0\"}, {\"type\": \"quantitative\", \"field\": \"proposal_x1\"}], \"x\": {\"type\": \"quantitative\", \"field\": \"proposal_x0\", \"scale\": {\"domain\": [-1.8489284346591206, 3.9978920571631242]}}, \"y\": {\"type\": \"quantitative\", \"field\": \"proposal_x1\", \"scale\": {\"domain\": [-1.5899090685710509, 4.858710222841365]}}}, \"transform\": [{\"filter\": {\"selection\": \"iteration\"}}]}], \"data\": {\"url\": \"/altairdata/altair-data-6dafdd33fed2a77776ed4bd1d42f39ae.json\", \"format\": {\"type\": \"json\"}}}, {\"data\": {\"url\": \"/altairdata/altair-data-cdd7d103e0fc212077f43fe417d5382c.json\", \"format\": {\"type\": \"json\"}}, \"mark\": \"bar\", \"encoding\": {\"tooltip\": {\"type\": \"quantitative\", \"field\": \"value\"}, \"x\": {\"type\": \"nominal\", \"field\": \"variable\"}, \"y\": {\"type\": \"quantitative\", \"field\": \"value\", \"scale\": {\"clamp\": true, \"domain\": [0, 1]}}}, \"selection\": {\"iteration\": {\"type\": \"single\", \"fields\": [\"i\"], \"bind\": {\"input\": \"range\", \"max\": 100, \"min\": 1, \"step\": 1}, \"init\": {\"i\": 1}}}, \"transform\": [{\"filter\": {\"selection\": \"iteration\"}}]}], \"$schema\": \"https://vega.github.io/schema/vega-lite/v4.8.1.json\"}, {\"mode\": \"vega-lite\"});\n",
       "</script>"
      ],
      "text/plain": [
       "alt.HConcatChart(...)"
      ]
     },
     "execution_count": 7,
     "metadata": {},
     "output_type": "execute_result"
    }
   ],
   "source": [
    "# Create slider\n",
    "n_iter = df.i.nunique()\n",
    "slider = alt.binding_range(min=1, max=n_iter, step=1)\n",
    "select_time = alt.selection_single(name=\"iteration\", fields=['i'],\n",
    "                                   bind=slider, init={'i': 1})\n",
    "\n",
    "# Unpack proposal and find axis scales\n",
    "df[[\"proposal_x0\", \"proposal_x1\"]] = pd.DataFrame(df.proposal.to_list(), index=df.index)\n",
    "xmin, xmax = min(df.x0.min(), df.proposal_x0.min()), max(df.x0.max(), df.proposal_x0.max())\n",
    "ymin, ymax = min(df.x1.min(), df.proposal_x1.min()), max(df.x1.max(), df.proposal_x1.max())\n",
    "x_scale = alt.Scale(domain=(xmin, xmax))\n",
    "y_scale = alt.Scale(domain=(ymin, ymax))\n",
    "\n",
    "# Create chart showing simulation\n",
    "simulation = alt.Chart(df).mark_point(opacity=0.7).encode(\n",
    "    x=alt.X(\"x0\", scale=x_scale),\n",
    "    y=alt.Y(\"x1\", scale=y_scale),\n",
    "    tooltip=[\"x0\", \"x1\"],\n",
    "    opacity=alt.condition(alt.datum.i < select_time.i, alt.value(1), alt.value(0)),\n",
    "    order=\"i\")\n",
    "\n",
    "# Create chart using proposal\n",
    "df_proposal = df\n",
    "df_proposal[[\"proposal_x0\", \"proposal_x1\"]] = df[[\"proposal_x0\", \"proposal_x1\"]].shift(-1)\n",
    "proposal = alt.Chart(df).mark_point(color=\"red\", filled=True, size=50).encode(\n",
    "    x=alt.X(\"proposal_x0\", scale=x_scale),\n",
    "    y=alt.Y(\"proposal_x1\", scale=y_scale),\n",
    "    tooltip=[\"proposal_x0\", \"proposal_x1\"],\n",
    "    color=alt.condition(\n",
    "        alt.datum.ratio > alt.datum.u,\n",
    "        alt.value(\"blue\"),\n",
    "        alt.value(\"red\")\n",
    "    )\n",
    ")\n",
    "\n",
    "# Create chart of probability ratio and u\n",
    "df[\"ratio\"] = df.f_proposal / df.f_current\n",
    "df_ratio = df[[\"i\", \"ratio\", \"u\"]].melt(id_vars=\"i\")\n",
    "ratio = alt.Chart(df_ratio).mark_bar().encode(\n",
    "    x=\"variable\",\n",
    "    y=alt.Y(\"value\", scale=alt.Scale(domain=(0, 1), clamp=True)),\n",
    "    tooltip=\"value\"\n",
    ").add_selection(select_time).transform_filter(\n",
    "    select_time\n",
    ")\n",
    "\n",
    "# Go!\n",
    "(simulation + proposal.transform_filter(select_time)).add_selection(select_time) | ratio"
   ]
  },
  {
   "cell_type": "markdown",
   "metadata": {},
   "source": [
    "# Comparing it to the true distribution\n",
    "That looks pretty interesting, but how do we fare against the real distribution? To do this, we run a Markov chain for 10000 iterations, and compare its histogram against the a plot of the actual density function, created by sampling the probability proportion in a 150x150 grid and normalizing it."
   ]
  },
  {
   "cell_type": "code",
   "execution_count": 8,
   "metadata": {},
   "outputs": [
    {
     "name": "stderr",
     "output_type": "stream",
     "text": [
      "100%|██████████| 22500/22500 [00:06<00:00, 3266.81it/s]\n"
     ]
    },
    {
     "data": {
      "text/html": [
       "\n",
       "<div id=\"altair-viz-5df14894072a4c5fba74dbe0a4af3b37\"></div>\n",
       "<script type=\"text/javascript\">\n",
       "  (function(spec, embedOpt){\n",
       "    let outputDiv = document.currentScript.previousElementSibling;\n",
       "    if (outputDiv.id !== \"altair-viz-5df14894072a4c5fba74dbe0a4af3b37\") {\n",
       "      outputDiv = document.getElementById(\"altair-viz-5df14894072a4c5fba74dbe0a4af3b37\");\n",
       "    }\n",
       "    const paths = {\n",
       "      \"vega\": \"https://cdn.jsdelivr.net/npm//vega@5?noext\",\n",
       "      \"vega-lib\": \"https://cdn.jsdelivr.net/npm//vega-lib?noext\",\n",
       "      \"vega-lite\": \"https://cdn.jsdelivr.net/npm//vega-lite@4.8.1?noext\",\n",
       "      \"vega-embed\": \"https://cdn.jsdelivr.net/npm//vega-embed@6?noext\",\n",
       "    };\n",
       "\n",
       "    function loadScript(lib) {\n",
       "      return new Promise(function(resolve, reject) {\n",
       "        var s = document.createElement('script');\n",
       "        s.src = paths[lib];\n",
       "        s.async = true;\n",
       "        s.onload = () => resolve(paths[lib]);\n",
       "        s.onerror = () => reject(`Error loading script: ${paths[lib]}`);\n",
       "        document.getElementsByTagName(\"head\")[0].appendChild(s);\n",
       "      });\n",
       "    }\n",
       "\n",
       "    function showError(err) {\n",
       "      outputDiv.innerHTML = `<div class=\"error\" style=\"color:red;\">${err}</div>`;\n",
       "      throw err;\n",
       "    }\n",
       "\n",
       "    function displayChart(vegaEmbed) {\n",
       "      vegaEmbed(outputDiv, spec, embedOpt)\n",
       "        .catch(err => showError(`Javascript Error: ${err.message}<br>This usually means there's a typo in your chart specification. See the javascript console for the full traceback.`));\n",
       "    }\n",
       "\n",
       "    if(typeof define === \"function\" && define.amd) {\n",
       "      requirejs.config({paths});\n",
       "      require([\"vega-embed\"], displayChart, err => showError(`Error loading script: ${err.message}`));\n",
       "    } else if (typeof vegaEmbed === \"function\") {\n",
       "      displayChart(vegaEmbed);\n",
       "    } else {\n",
       "      loadScript(\"vega\")\n",
       "        .then(() => loadScript(\"vega-lite\"))\n",
       "        .then(() => loadScript(\"vega-embed\"))\n",
       "        .catch(showError)\n",
       "        .then(() => displayChart(vegaEmbed));\n",
       "    }\n",
       "  })({\"config\": {\"view\": {\"continuousWidth\": 400, \"continuousHeight\": 300}}, \"hconcat\": [{\"data\": {\"url\": \"/altairdata/altair-data-a59a1fd9f02bacf52271f3c4ef721e5f.json\", \"format\": {\"type\": \"json\"}}, \"mark\": \"point\", \"encoding\": {\"color\": {\"type\": \"quantitative\", \"field\": \"p\"}, \"x\": {\"type\": \"quantitative\", \"field\": \"x0\"}, \"y\": {\"type\": \"quantitative\", \"field\": \"x1\"}}}, {\"data\": {\"url\": \"/altairdata/altair-data-e3a32e9f4dde2ae0635016e991e5a909.json\", \"format\": {\"type\": \"json\"}}, \"mark\": \"point\", \"encoding\": {\"color\": {\"type\": \"quantitative\", \"field\": \"p_matched\"}, \"x\": {\"type\": \"quantitative\", \"field\": \"x0\"}, \"y\": {\"type\": \"quantitative\", \"field\": \"x1\"}}}], \"$schema\": \"https://vega.github.io/schema/vega-lite/v4.8.1.json\"}, {\"mode\": \"vega-lite\"});\n",
       "</script>"
      ],
      "text/plain": [
       "alt.HConcatChart(...)"
      ]
     },
     "execution_count": 8,
     "metadata": {},
     "output_type": "execute_result"
    }
   ],
   "source": [
    "x_bins = np.linspace(-5, 5, 150)\n",
    "y_bins = np.linspace(-5, 5, 150)\n",
    "\n",
    "transition = lambda current: transition_MH(current, p_prop, scale=1)\n",
    "df = simulate((0, 0), transition, n_iter=10_000)\n",
    "hist = make_2d_histogram(df, x_bins, y_bins)\n",
    "\n",
    "sample = generate_sample(p_prop, x_bins=x_bins, y_bins=y_bins)\n",
    "sample[\"p_matched\"] = sample.p * hist.data.p.sum()  # Need to rescale due to binning\n",
    "true_density = alt.Chart(sample).mark_point().encode(x=\"x0\", y=\"x1\", color=\"p_matched\")\n",
    "\n",
    "hist | true_density"
   ]
  },
  {
   "cell_type": "markdown",
   "metadata": {},
   "source": [
    "That's pretty good! Let's look at the estimated means. We see that they're at least in the ball park with less than half the points (we have 22500 points in our grid, and only 10000 points in our markov chain)."
   ]
  },
  {
   "cell_type": "code",
   "execution_count": 9,
   "metadata": {},
   "outputs": [
    {
     "name": "stdout",
     "output_type": "stream",
     "text": [
      "MCMC mean: (1.1776513919915395, 2.106161026368139)\n",
      "Grid sample mean: (1.19973972141778, 2.0994867810183075)\n"
     ]
    }
   ],
   "source": [
    "print(f\"MCMC mean: {(df.x0.mean(), df.x1.mean())}\")\n",
    "print(f\"Grid sample mean: {(sample.x0 @ sample.p, sample.x1 @ sample.p)}\")"
   ]
  },
  {
   "cell_type": "markdown",
   "metadata": {},
   "source": [
    "# How good is good enough?\n",
    "This is a natural point in the narrative to start wondering about the question of convergence. It certainly seems clear from the graphs we've drawn that the Metropolis-Hastings algorithm ends up \"exploring\" the distribution we want to sample from pretty well. And, as it turns out, there is a mathematical theorem proving it: as the number of samples goes to infinity, the distribution of the Markov chain will converge to the distribution of the probability proportion. So if we extend our Markov chain long enough, we will always get accurate estimates.  \n",
    "But therein lies the rub. What is \"long enough\"? When do we decide to stop a Markov chain? How do we know that our parameter estimates are accurate? We can't simply compare the MCMC-estimates to the true distribution, since *the whole point of MCMC is to be able to sample from a distribution we can't sample from otherwise*.  \n",
    "There do exist metrics for monitoring and improving the speed of convergence, and using Markov Chain Monte Carlo methods in practice is effectively doing these two things. Convergence is the subject of our next notebook."
   ]
  },
  {
   "cell_type": "markdown",
   "metadata": {},
   "source": [
    "# Summary\n",
    "We introduced Markov chains, which can be described as a random walk through space: the next location only depends upon the previous one through a transition function. By choosing this transition function wisely, as in the Metropolis-Hasting algorithm, we can sample from a probability distribution already when we only know the probability proportion, and apparently can do so pretty well.  \n",
    "The question remains, *how* well? Mathematics guarantees convergence *eventually*, but that isn't a very practical guideline. Monitoring this convergence in practice will be the subject of our next notebook."
   ]
  }
 ],
 "metadata": {
  "kernelspec": {
   "display_name": "Python 3",
   "language": "python",
   "name": "python3"
  },
  "language_info": {
   "codemirror_mode": {
    "name": "ipython",
    "version": 3
   },
   "file_extension": ".py",
   "mimetype": "text/x-python",
   "name": "python",
   "nbconvert_exporter": "python",
   "pygments_lexer": "ipython3",
   "version": "3.7.7"
  }
 },
 "nbformat": 4,
 "nbformat_minor": 4
}
