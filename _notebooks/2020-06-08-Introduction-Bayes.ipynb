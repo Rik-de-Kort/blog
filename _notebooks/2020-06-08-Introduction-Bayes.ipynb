{
 "cells": [
  {
   "cell_type": "markdown",
   "metadata": {},
   "source": [
    "# \"MCMC From Scratch I: Bayesian Statistics\"\n",
    "> \"An introduction to Markov Chain Monte Carlo for Bayesian Statistics\"\n",
    "\n",
    "- toc:false- branch: master- badges: true- comments: true\n",
    "- author: Rik de Kort\n",
    "- categories: [mcmc]"
   ]
  },
  {
   "cell_type": "markdown",
   "metadata": {},
   "source": [
    "This is the first in a series of notebooks on solving the Eight Schools problem from Bayesian Data Analysis from scratch in Python. I developed these notebooks for the bi-weekly knowledge sharing sessions between Data Scientists we have at my company. Their aim is to give a standalone introduction to the basics of Markov Chain Monte Carlo based on a practical example, as opposed to first developing a lot of theory.  \n",
    "\n",
    "This notebook is a (very) gentle introduction to the Eight Schools problem and the Bayesian approach used to solve it.\n",
    "\n",
    "Enjoy!"
   ]
  },
  {
   "cell_type": "code",
   "execution_count": 1,
   "metadata": {},
   "outputs": [
    {
     "data": {
      "text/plain": [
       "DataTransformerRegistry.enable('json_dir')"
      ]
     },
     "execution_count": 1,
     "metadata": {},
     "output_type": "execute_result"
    }
   ],
   "source": [
    "#hide\n",
    "import altair as alt\n",
    "import numpy as np\n",
    "import pandas as pd\n",
    "from scipy.stats import norm, uniform\n",
    "\n",
    "from mcmc import json_dir\n",
    "\n",
    "alt.data_transformers.register('json_dir', json_dir)\n",
    "alt.data_transformers.enable('json_dir', data_dir='altairdata')"
   ]
  },
  {
   "cell_type": "markdown",
   "metadata": {},
   "source": [
    "# The problem we're trying to solve\n",
    "We are investigating the effect of a new way of teaching something (say, Bayesian statistics) in 8 different schools. We find the following data, which of course we visualize."
   ]
  },
  {
   "cell_type": "code",
   "execution_count": 2,
   "metadata": {},
   "outputs": [
    {
     "data": {
      "text/html": [
       "\n",
       "<div id=\"altair-viz-6936a523d6f445b2bb309925a4a29c78\"></div>\n",
       "<script type=\"text/javascript\">\n",
       "  (function(spec, embedOpt){\n",
       "    let outputDiv = document.currentScript.previousElementSibling;\n",
       "    if (outputDiv.id !== \"altair-viz-6936a523d6f445b2bb309925a4a29c78\") {\n",
       "      outputDiv = document.getElementById(\"altair-viz-6936a523d6f445b2bb309925a4a29c78\");\n",
       "    }\n",
       "    const paths = {\n",
       "      \"vega\": \"https://cdn.jsdelivr.net/npm//vega@5?noext\",\n",
       "      \"vega-lib\": \"https://cdn.jsdelivr.net/npm//vega-lib?noext\",\n",
       "      \"vega-lite\": \"https://cdn.jsdelivr.net/npm//vega-lite@4.8.1?noext\",\n",
       "      \"vega-embed\": \"https://cdn.jsdelivr.net/npm//vega-embed@6?noext\",\n",
       "    };\n",
       "\n",
       "    function loadScript(lib) {\n",
       "      return new Promise(function(resolve, reject) {\n",
       "        var s = document.createElement('script');\n",
       "        s.src = paths[lib];\n",
       "        s.async = true;\n",
       "        s.onload = () => resolve(paths[lib]);\n",
       "        s.onerror = () => reject(`Error loading script: ${paths[lib]}`);\n",
       "        document.getElementsByTagName(\"head\")[0].appendChild(s);\n",
       "      });\n",
       "    }\n",
       "\n",
       "    function showError(err) {\n",
       "      outputDiv.innerHTML = `<div class=\"error\" style=\"color:red;\">${err}</div>`;\n",
       "      throw err;\n",
       "    }\n",
       "\n",
       "    function displayChart(vegaEmbed) {\n",
       "      vegaEmbed(outputDiv, spec, embedOpt)\n",
       "        .catch(err => showError(`Javascript Error: ${err.message}<br>This usually means there's a typo in your chart specification. See the javascript console for the full traceback.`));\n",
       "    }\n",
       "\n",
       "    if(typeof define === \"function\" && define.amd) {\n",
       "      requirejs.config({paths});\n",
       "      require([\"vega-embed\"], displayChart, err => showError(`Error loading script: ${err.message}`));\n",
       "    } else if (typeof vegaEmbed === \"function\") {\n",
       "      displayChart(vegaEmbed);\n",
       "    } else {\n",
       "      loadScript(\"vega\")\n",
       "        .then(() => loadScript(\"vega-lite\"))\n",
       "        .then(() => loadScript(\"vega-embed\"))\n",
       "        .catch(showError)\n",
       "        .then(() => displayChart(vegaEmbed));\n",
       "    }\n",
       "  })({\"config\": {\"view\": {\"continuousWidth\": 400, \"continuousHeight\": 300}, \"axisX\": {\"labelAngle\": 0}}, \"layer\": [{\"mark\": \"bar\", \"encoding\": {\"tooltip\": {\"type\": \"quantitative\", \"aggregate\": \"mean\", \"field\": \"effect_estimate\"}, \"x\": {\"type\": \"nominal\", \"field\": \"school\"}, \"y\": {\"type\": \"quantitative\", \"field\": \"effect_estimate\", \"title\": \"effect\"}}}, {\"mark\": \"rule\", \"encoding\": {\"tooltip\": {\"type\": \"quantitative\", \"aggregate\": \"mean\", \"field\": \"effect_estimate\"}, \"y\": {\"type\": \"quantitative\", \"aggregate\": \"mean\", \"field\": \"effect_estimate\"}}}], \"data\": {\"url\": \"altairdata/altair-data-c2c211e74b76912a400e413f8e6115cf.json\", \"format\": {\"type\": \"json\"}}, \"width\": 768, \"$schema\": \"https://vega.github.io/schema/vega-lite/v4.8.1.json\"}, {\"mode\": \"vega-lite\"});\n",
       "</script>"
      ],
      "text/plain": [
       "alt.LayerChart(...)"
      ]
     },
     "execution_count": 2,
     "metadata": {},
     "output_type": "execute_result"
    }
   ],
   "source": [
    "effect_estimates = np.array([28, 8, -3, 7, -1, 1, 18, 12])\n",
    "std_estimates = np.array([15, 10, 16, 11, 9, 11, 10, 18])\n",
    "school_names = [\"A\", \"B\", \"C\", \"D\", \"E\", \"F\", \"G\", \"H\"]\n",
    "\n",
    "df = pd.DataFrame({\"effect_estimate\": effect_estimates,\n",
    "                   \"std_estimate\": std_estimates,\n",
    "                  \"school\": school_names})\n",
    "\n",
    "bar_chart = alt.Chart(df).mark_bar().encode(\n",
    "    x=\"school\",\n",
    "    y=alt.Y(\"effect_estimate\", title=\"effect\"),\n",
    "    tooltip=\"mean(effect_estimate)\"\n",
    ")\n",
    "mean = alt.Chart(df).mark_rule().encode(\n",
    "    y=\"mean(effect_estimate)\",\n",
    "    tooltip=\"mean(effect_estimate)\"\n",
    ")\n",
    "\n",
    "(bar_chart + mean).properties(\n",
    "    width=768\n",
    ").configure_axisX(\n",
    "    labelAngle=0\n",
    ")"
   ]
  },
  {
   "cell_type": "markdown",
   "metadata": {},
   "source": [
    "There seems to be a big disparity between various schools. Is the true effect for school A really so high as to be 28? That seems unlikely, it could also be the result of a measurement error. On the other hand, if we pool all the effect estimates, we get a mean effect size of 8.75 (the horizontal line in the graphic), which seems low for school A. So what really is the effect for school A?"
   ]
  },
  {
   "cell_type": "markdown",
   "metadata": {},
   "source": [
    "# A third option\n",
    "What we are looking for it the \"true\" effect size for school A. This is potentially different from the *observed* effect estimate of 28. But this is something we can model! If we call the true effect size `t_A`, and we use the standard deviation estimate from the table, we can model the estimated effect size by:"
   ]
  },
  {
   "cell_type": "code",
   "execution_count": 3,
   "metadata": {},
   "outputs": [],
   "source": [
    "t_A = 42  # Suppose it's known\n",
    "effect_estimate_A = norm.rvs(loc=t_A, scale=15)"
   ]
  },
  {
   "cell_type": "markdown",
   "metadata": {},
   "source": [
    "Clearly, we can extend this for schools B, C,..., H. We then have a list of true effect sizes `t`, and we model the estimated effect sizes using the standard deviation estimates from our data:"
   ]
  },
  {
   "cell_type": "code",
   "execution_count": 4,
   "metadata": {},
   "outputs": [],
   "source": [
    "t = [42, 37, 23, 17, 19, 101, 0, -5]  # Suppose it's known\n",
    "effect_estimates = norm.rvs(loc=t, scale=std_estimates)"
   ]
  },
  {
   "cell_type": "markdown",
   "metadata": {},
   "source": [
    "In this model, each school still has its own effect size, with no relation between them. In order to draw this connection, we suppose that all the true parameters come from some shared distribution with mean `mu` and standard deviation `sigma`. That is:"
   ]
  },
  {
   "cell_type": "code",
   "execution_count": 5,
   "metadata": {},
   "outputs": [],
   "source": [
    "mu, sigma = 42, 37  # Suppose they're known\n",
    "t = norm.rvs(loc=mu, scale=sigma, size=8)\n",
    "effect_estimates = norm.rvs(loc=t, scale=std_estimates)"
   ]
  },
  {
   "cell_type": "markdown",
   "metadata": {},
   "source": [
    "**Inference**  \n",
    "That's a pretty neat model! But how do we obtain the values for `t`? We only know the effect estimates, and have no idea what `mu` and `sigma` should be.  \n",
    "From our model, we know the *conditional probability* of the effect estimates given `t`, `mu`, and `sigma`. In mathematical symbols we write that we know $p(\\mathtt{effect\\_estimates} \\mid t, \\mu, \\sigma)$."
   ]
  },
  {
   "cell_type": "code",
   "execution_count": 6,
   "metadata": {},
   "outputs": [
    {
     "data": {
      "text/plain": [
       "array([0.02659615, 0.03989423, 0.02493389, 0.03626748, 0.04432692,\n",
       "       0.03626748, 0.03989423, 0.02216346])"
      ]
     },
     "execution_count": 6,
     "metadata": {},
     "output_type": "execute_result"
    }
   ],
   "source": [
    "def p_conditional(effect_estimates, t, mu, sigma):\n",
    "    return norm.pdf(effect_estimates, loc=t, scale=std_estimates)\n",
    "\n",
    "p_conditional([0]*8, [0]*8, 0, 1)"
   ]
  },
  {
   "cell_type": "markdown",
   "metadata": {},
   "source": [
    "This doesn't seem to help us much: we have simply phrased the model above in terms of probability distributions. However, as we will see, using the above expression mathematics allows us to find $p(t, \\mu, \\sigma \\mid \\mathtt{effect\\_estimates})$, the distribution of the parameters given the data!"
   ]
  },
  {
   "cell_type": "markdown",
   "metadata": {},
   "source": [
    "# Conditional probability and Bayes theorem\n",
    "Below we have an image of several animals and where they reside: on land, or in water. We have the options bear, horse, bee, cat, duck, hippo, alligator, fish, and shark. A simple conditional probability question might be: what is the probability that an animal lives in water, *given* that it lives on land. In the symbols of mathematics: $p(\\text{water} \\mid \\text{land})$. Looking at the diagram, it's clear that this probability is $\\frac{3}{7}$: there are seven animals that live on land and three of those that live in water *and* land. So the calculation we did is $$p(\\text{water} \\mid \\text{land}) = \\frac{p(\\text{water}, \\text{land})}{p(\\text{land})}$$\n",
    "\n",
    "![](venn_diagram.jpg)\n",
    "\n",
    "Now we invert the question: what is the probability that an animal lives on land, given that it lives in water? A simple look tells us $$p(\\text{land} \\mid \\text{water}) = \\frac{p(\\text{water}, \\text{land})}{p(\\text{water})}$$\n",
    "\n",
    "To obtain a relationship between these, notice that $p(\\text{water}, \\text{land}) = p(\\text{water} \\mid \\text{land}) \\cdot p(\\text{land})$. Putting this into our second equation, we get $$p(\\text{land} \\mid \\text{water}) = \\frac{p(\\text{water} \\mid \\text{land}) \\cdot p(\\text{land})}{p(\\text{water})}$$\n",
    "\n",
    "Which is the formula known as **Bayes' theorem**. It tells us how to get from a conditional probability to its inverse."
   ]
  },
  {
   "cell_type": "markdown",
   "metadata": {},
   "source": [
    "# Applying Bayes theorem to our 8 Schools problem\n",
    "Using Bayes theorem\n",
    "\n",
    "$$p(t, \\mu, \\sigma \\mid \\mathtt{effect\\_estimates}) = \\frac{p(\\mathtt{effect\\_estimates} \\mid t, \\mu, \\sigma) \\cdot p(t, \\mu, \\sigma)}{p(\\mathtt{effect\\_estimates})}$$\n",
    "\n",
    "We have reduced our problem to finding out the following quantities: what is the probability of a certain value of $t$, $\\mu$, $\\sigma$, and what is the probability *in general* of a certain `effect_estimate`.\n",
    "\n",
    "To answer the first question, remember that we modelled `t = norm.rvs(loc=mu, scale=sigma, size=8)`. That is, we already know $p(t \\mid \\mu, \\sigma)$! From the derivation of Bayes' theorem we already knew that $p(t, \\mu, \\sigma) = p(t \\mid \\mu, \\sigma) \\cdot p(\\mu, \\sigma)$. So it appears we are still missing a piece of the equation: probabilities for $\\mu$ and $\\sigma$.  \n",
    "These probabilities we call *priors*. They encode what information we already have about the parameters. In this case, that is not much. It seems reasonable to say $\\mu$ should be somewhere in the vicinity of 8.75, so let's put the probability for $\\mu$ as a normal distribution with mean 8.75 and standard deviation 20. For $\\sigma$, we pretty much only know it's not negative, so we put it's probability uniform between 0 and 100.  \n",
    "Conversely, we call the distribution $p(t, \\mu, \\sigma \\mid \\mathtt{effect\\_estimates})$ the *posterior*.\n",
    "\n",
    "This gives us all the bits and pieces to answer our first question. In code:"
   ]
  },
  {
   "cell_type": "code",
   "execution_count": 7,
   "metadata": {},
   "outputs": [
    {
     "data": {
      "text/plain": [
       "(0.01990819283434433, 0.01, 1.279854491013879e-07)"
      ]
     },
     "execution_count": 7,
     "metadata": {},
     "output_type": "execute_result"
    }
   ],
   "source": [
    "def p_mu(mu):\n",
    "    return norm.pdf(mu, loc=8.75, scale=20)\n",
    "\n",
    "def p_sigma(sigma):\n",
    "    return uniform.pdf(sigma, loc=0, scale=100)\n",
    "\n",
    "def p_t_mu_sigma(t, mu, sigma):\n",
    "    return norm.pdf(t, loc=mu, scale=sigma).prod() * norm.pdf(mu, loc=8.75, scale=20) * uniform.pdf(sigma, loc=0, scale=100)\n",
    "\n",
    "p_mu(10), p_sigma(2.3), p_t_mu_sigma([8.75]*8, 8.75, 1)"
   ]
  },
  {
   "cell_type": "markdown",
   "metadata": {},
   "source": [
    "The second question seems more difficult at first sight: it is hard to obtain $p(\\mathtt{effect\\_estimates})$. In this case it could be done, because we chose simple distributions.\n",
    "\n",
    "We note that `effect_estimates` is given, so $p(\\mathtt{effect\\_estimates})$ is a constant. If we remove this from the equation, we find the left-hand side to be *proportional to* ($\\propto$) the right-hand side in the following equation:\n",
    "\n",
    "$$p(t, \\mu, \\sigma \\mid \\mathtt{effect\\_estimates}) \\propto p(\\mathtt{effect\\_estimates} \\mid t) \\cdot p(t \\mid \\mu, \\sigma) \\cdot p(\\mu) \\cdot p(\\sigma)$$\n",
    "\n",
    "In code:"
   ]
  },
  {
   "cell_type": "code",
   "execution_count": 8,
   "metadata": {},
   "outputs": [],
   "source": [
    "def p_prop(t, mu, sigma):\n",
    "    p_mu = norm.pdf(mu, loc=8.75, scale=20)\n",
    "    p_sigma = uniform.pdf(sigma, loc=0, scale=100)\n",
    "    p_t_mu_sigma = norm.pdf(t, loc=mu, scale=sigma)\n",
    "    p_ee_t = norm.pdf(effect_estimates, loc=t, scale=std_estimates).prod()\n",
    "    return p_ee_t * p_t_mu_sigma * p_mu * p_sigma"
   ]
  },
  {
   "cell_type": "markdown",
   "metadata": {},
   "source": [
    "Using this probability proportion, we can already sample from the distribution: we weight each sample by its probability proportion, dividing by the total weight. This will allow us to draw histograms. A small example in two dimensions:"
   ]
  },
  {
   "cell_type": "code",
   "execution_count": 9,
   "metadata": {},
   "outputs": [
    {
     "data": {
      "text/html": [
       "<div>\n",
       "<style scoped>\n",
       "    .dataframe tbody tr th:only-of-type {\n",
       "        vertical-align: middle;\n",
       "    }\n",
       "\n",
       "    .dataframe tbody tr th {\n",
       "        vertical-align: top;\n",
       "    }\n",
       "\n",
       "    .dataframe thead th {\n",
       "        text-align: right;\n",
       "    }\n",
       "</style>\n",
       "<table border=\"1\" class=\"dataframe\">\n",
       "  <thead>\n",
       "    <tr style=\"text-align: right;\">\n",
       "      <th></th>\n",
       "      <th>x</th>\n",
       "      <th>y</th>\n",
       "      <th>p_prop</th>\n",
       "      <th>p</th>\n",
       "    </tr>\n",
       "  </thead>\n",
       "  <tbody>\n",
       "    <tr>\n",
       "      <th>0</th>\n",
       "      <td>-3.0</td>\n",
       "      <td>-3.000000</td>\n",
       "      <td>0.0</td>\n",
       "      <td>0.0</td>\n",
       "    </tr>\n",
       "    <tr>\n",
       "      <th>1</th>\n",
       "      <td>-3.0</td>\n",
       "      <td>-2.969849</td>\n",
       "      <td>0.0</td>\n",
       "      <td>0.0</td>\n",
       "    </tr>\n",
       "    <tr>\n",
       "      <th>2</th>\n",
       "      <td>-3.0</td>\n",
       "      <td>-2.939698</td>\n",
       "      <td>0.0</td>\n",
       "      <td>0.0</td>\n",
       "    </tr>\n",
       "    <tr>\n",
       "      <th>3</th>\n",
       "      <td>-3.0</td>\n",
       "      <td>-2.909548</td>\n",
       "      <td>0.0</td>\n",
       "      <td>0.0</td>\n",
       "    </tr>\n",
       "    <tr>\n",
       "      <th>4</th>\n",
       "      <td>-3.0</td>\n",
       "      <td>-2.879397</td>\n",
       "      <td>0.0</td>\n",
       "      <td>0.0</td>\n",
       "    </tr>\n",
       "  </tbody>\n",
       "</table>\n",
       "</div>"
      ],
      "text/plain": [
       "     x         y  p_prop    p\n",
       "0 -3.0 -3.000000     0.0  0.0\n",
       "1 -3.0 -2.969849     0.0  0.0\n",
       "2 -3.0 -2.939698     0.0  0.0\n",
       "3 -3.0 -2.909548     0.0  0.0\n",
       "4 -3.0 -2.879397     0.0  0.0"
      ]
     },
     "execution_count": 9,
     "metadata": {},
     "output_type": "execute_result"
    }
   ],
   "source": [
    "def p_prop(q):\n",
    "    x, y = q\n",
    "    if abs(x) > 2 or abs(y) > 3: return 0\n",
    "    return 0.3*norm.pdf(x) + 0.7*norm.pdf(y) - 0.1*norm.pdf(x*y)\n",
    "\n",
    "bins = np.linspace(-3, 3, 200)\n",
    "points = [(x, y) for x in bins for y in bins]\n",
    "samples = pd.DataFrame([(*q, p_prop(q)) for q in points], columns=[\"x\", \"y\", \"p_prop\"])\n",
    "samples[\"p\"] = samples.p_prop / samples.p_prop.sum()\n",
    "samples.head()"
   ]
  },
  {
   "cell_type": "markdown",
   "metadata": {},
   "source": [
    "An overview of the distirbution in the two-dimensional space."
   ]
  },
  {
   "cell_type": "code",
   "execution_count": 10,
   "metadata": {},
   "outputs": [
    {
     "data": {
      "text/html": [
       "\n",
       "<div id=\"altair-viz-284c44537e0c47ce9f51756507f9ec5f\"></div>\n",
       "<script type=\"text/javascript\">\n",
       "  (function(spec, embedOpt){\n",
       "    let outputDiv = document.currentScript.previousElementSibling;\n",
       "    if (outputDiv.id !== \"altair-viz-284c44537e0c47ce9f51756507f9ec5f\") {\n",
       "      outputDiv = document.getElementById(\"altair-viz-284c44537e0c47ce9f51756507f9ec5f\");\n",
       "    }\n",
       "    const paths = {\n",
       "      \"vega\": \"https://cdn.jsdelivr.net/npm//vega@5?noext\",\n",
       "      \"vega-lib\": \"https://cdn.jsdelivr.net/npm//vega-lib?noext\",\n",
       "      \"vega-lite\": \"https://cdn.jsdelivr.net/npm//vega-lite@4.8.1?noext\",\n",
       "      \"vega-embed\": \"https://cdn.jsdelivr.net/npm//vega-embed@6?noext\",\n",
       "    };\n",
       "\n",
       "    function loadScript(lib) {\n",
       "      return new Promise(function(resolve, reject) {\n",
       "        var s = document.createElement('script');\n",
       "        s.src = paths[lib];\n",
       "        s.async = true;\n",
       "        s.onload = () => resolve(paths[lib]);\n",
       "        s.onerror = () => reject(`Error loading script: ${paths[lib]}`);\n",
       "        document.getElementsByTagName(\"head\")[0].appendChild(s);\n",
       "      });\n",
       "    }\n",
       "\n",
       "    function showError(err) {\n",
       "      outputDiv.innerHTML = `<div class=\"error\" style=\"color:red;\">${err}</div>`;\n",
       "      throw err;\n",
       "    }\n",
       "\n",
       "    function displayChart(vegaEmbed) {\n",
       "      vegaEmbed(outputDiv, spec, embedOpt)\n",
       "        .catch(err => showError(`Javascript Error: ${err.message}<br>This usually means there's a typo in your chart specification. See the javascript console for the full traceback.`));\n",
       "    }\n",
       "\n",
       "    if(typeof define === \"function\" && define.amd) {\n",
       "      requirejs.config({paths});\n",
       "      require([\"vega-embed\"], displayChart, err => showError(`Error loading script: ${err.message}`));\n",
       "    } else if (typeof vegaEmbed === \"function\") {\n",
       "      displayChart(vegaEmbed);\n",
       "    } else {\n",
       "      loadScript(\"vega\")\n",
       "        .then(() => loadScript(\"vega-lite\"))\n",
       "        .then(() => loadScript(\"vega-embed\"))\n",
       "        .catch(showError)\n",
       "        .then(() => displayChart(vegaEmbed));\n",
       "    }\n",
       "  })({\"config\": {\"view\": {\"continuousWidth\": 400, \"continuousHeight\": 300}}, \"data\": {\"url\": \"altairdata/altair-data-de6f6ac046e8b848855534abe16ce0aa.json\", \"format\": {\"type\": \"json\"}}, \"mark\": {\"type\": \"point\", \"filled\": false}, \"encoding\": {\"color\": {\"type\": \"quantitative\", \"field\": \"p\"}, \"tooltip\": [{\"type\": \"quantitative\", \"field\": \"x\"}, {\"type\": \"quantitative\", \"field\": \"y\"}, {\"type\": \"quantitative\", \"field\": \"p\"}], \"x\": {\"type\": \"quantitative\", \"field\": \"x\"}, \"y\": {\"type\": \"quantitative\", \"field\": \"y\"}}, \"$schema\": \"https://vega.github.io/schema/vega-lite/v4.8.1.json\"}, {\"mode\": \"vega-lite\"});\n",
       "</script>"
      ],
      "text/plain": [
       "alt.Chart(...)"
      ]
     },
     "execution_count": 10,
     "metadata": {},
     "output_type": "execute_result"
    }
   ],
   "source": [
    "alt.Chart(samples).mark_point(filled=False).encode(\n",
    "    x=\"x\",\n",
    "    y=\"y\",\n",
    "    color=\"p\",\n",
    "    tooltip=[\"x\", \"y\", \"p\"]\n",
    ")"
   ]
  },
  {
   "cell_type": "markdown",
   "metadata": {},
   "source": [
    "And histograms for the two components."
   ]
  },
  {
   "cell_type": "code",
   "execution_count": 11,
   "metadata": {},
   "outputs": [
    {
     "data": {
      "text/html": [
       "\n",
       "<div id=\"altair-viz-d76b39db5234491a8b7e1861b1eced82\"></div>\n",
       "<script type=\"text/javascript\">\n",
       "  (function(spec, embedOpt){\n",
       "    let outputDiv = document.currentScript.previousElementSibling;\n",
       "    if (outputDiv.id !== \"altair-viz-d76b39db5234491a8b7e1861b1eced82\") {\n",
       "      outputDiv = document.getElementById(\"altair-viz-d76b39db5234491a8b7e1861b1eced82\");\n",
       "    }\n",
       "    const paths = {\n",
       "      \"vega\": \"https://cdn.jsdelivr.net/npm//vega@5?noext\",\n",
       "      \"vega-lib\": \"https://cdn.jsdelivr.net/npm//vega-lib?noext\",\n",
       "      \"vega-lite\": \"https://cdn.jsdelivr.net/npm//vega-lite@4.8.1?noext\",\n",
       "      \"vega-embed\": \"https://cdn.jsdelivr.net/npm//vega-embed@6?noext\",\n",
       "    };\n",
       "\n",
       "    function loadScript(lib) {\n",
       "      return new Promise(function(resolve, reject) {\n",
       "        var s = document.createElement('script');\n",
       "        s.src = paths[lib];\n",
       "        s.async = true;\n",
       "        s.onload = () => resolve(paths[lib]);\n",
       "        s.onerror = () => reject(`Error loading script: ${paths[lib]}`);\n",
       "        document.getElementsByTagName(\"head\")[0].appendChild(s);\n",
       "      });\n",
       "    }\n",
       "\n",
       "    function showError(err) {\n",
       "      outputDiv.innerHTML = `<div class=\"error\" style=\"color:red;\">${err}</div>`;\n",
       "      throw err;\n",
       "    }\n",
       "\n",
       "    function displayChart(vegaEmbed) {\n",
       "      vegaEmbed(outputDiv, spec, embedOpt)\n",
       "        .catch(err => showError(`Javascript Error: ${err.message}<br>This usually means there's a typo in your chart specification. See the javascript console for the full traceback.`));\n",
       "    }\n",
       "\n",
       "    if(typeof define === \"function\" && define.amd) {\n",
       "      requirejs.config({paths});\n",
       "      require([\"vega-embed\"], displayChart, err => showError(`Error loading script: ${err.message}`));\n",
       "    } else if (typeof vegaEmbed === \"function\") {\n",
       "      displayChart(vegaEmbed);\n",
       "    } else {\n",
       "      loadScript(\"vega\")\n",
       "        .then(() => loadScript(\"vega-lite\"))\n",
       "        .then(() => loadScript(\"vega-embed\"))\n",
       "        .catch(showError)\n",
       "        .then(() => displayChart(vegaEmbed));\n",
       "    }\n",
       "  })({\"config\": {\"view\": {\"continuousWidth\": 400, \"continuousHeight\": 300}}, \"hconcat\": [{\"mark\": \"bar\", \"encoding\": {\"tooltip\": {\"type\": \"quantitative\", \"aggregate\": \"sum\", \"field\": \"p\"}, \"x\": {\"type\": \"quantitative\", \"bin\": {\"maxbins\": 25}, \"field\": \"x\"}, \"y\": {\"type\": \"quantitative\", \"aggregate\": \"sum\", \"field\": \"p\"}}}, {\"mark\": \"bar\", \"encoding\": {\"tooltip\": {\"type\": \"quantitative\", \"aggregate\": \"sum\", \"field\": \"p\"}, \"x\": {\"type\": \"quantitative\", \"aggregate\": \"sum\", \"field\": \"p\"}, \"y\": {\"type\": \"quantitative\", \"bin\": {\"maxbins\": 25}, \"field\": \"y\"}}}], \"data\": {\"url\": \"altairdata/altair-data-de6f6ac046e8b848855534abe16ce0aa.json\", \"format\": {\"type\": \"json\"}}, \"$schema\": \"https://vega.github.io/schema/vega-lite/v4.8.1.json\"}, {\"mode\": \"vega-lite\"});\n",
       "</script>"
      ],
      "text/plain": [
       "alt.HConcatChart(...)"
      ]
     },
     "execution_count": 11,
     "metadata": {},
     "output_type": "execute_result"
    }
   ],
   "source": [
    "alt.Chart(samples).mark_bar().encode(\n",
    "    x=alt.X(\"x\", bin=alt.Bin(maxbins=25)),\n",
    "    y=\"sum(p)\",\n",
    "    tooltip=\"sum(p)\"\n",
    ") | alt.Chart(samples).mark_bar().encode(\n",
    "    x=\"sum(p)\",\n",
    "    y=alt.Y(\"y\", bin=alt.Bin(maxbins=25)), \n",
    "    tooltip=\"sum(p)\"\n",
    ")"
   ]
  },
  {
   "cell_type": "markdown",
   "metadata": {},
   "source": [
    "However, there is a second problem: how do you sample from a 10-dimensional space? Already sampling 40000 points can take some time. With each dimension we add, we're going to multiply the number of points needing to be sampled by 100. And most of these points will be have a very low probability anyway.\n",
    "\n",
    "Using Markov Chain Monte Carlo, we can draw histograms based on this formula without having to know the exact value of $p(\\mathtt{effect\\_estimate})$, and allowing us to only sample more in regions where it matters."
   ]
  },
  {
   "cell_type": "markdown",
   "metadata": {},
   "source": [
    "# Summary\n",
    "We have seen an example of a Bayesian approach to solving the problem of finding true effect sizes given some measured effect sizes.\n",
    "\n",
    "* We had 8 schools A,..., H with a measured effect size for A that seemed very high. Our practical goal is to find a more reasonable estimate for school A.\n",
    "* By writing down a model for the estimated effect size, having as parameters the true effect size and hyperparameters $\\mu$ and $\\sigma$, we can find the conditional probability of measuring a certain effect given the other parameters.\n",
    "* Using Bayes theorem, we can invert the conditional probability to give the probability of the true effect size and hyperparameters given the data. This required us to define a *prior* on the hyperparameters $\\mu, \\sigma$.\n",
    "\n",
    "The difficulty here is: the distribution we're trying to sample from is 10-dimensional (8 dimensions of $t$, 1 each for $\\mu, \\sigma$). Most of the points in this 10-dimensional space will have negligble density and thus aren't relevant. How do we sample from the relevant regions? This is the problem markov chain monte carlo addresses. It has two important features:\n",
    "\n",
    "* It draws samples only needing the probability *proportion* as opposed to an actual probability.\n",
    "* It samples more often from high-importance regions, which leads to significant gains in efficiency.\n",
    "\n",
    "The concept of Markov Chain Monte Carlo is explored in the next notebook."
   ]
  }
 ],
 "metadata": {
  "kernelspec": {
   "display_name": "Python 3",
   "language": "python",
   "name": "python3"
  },
  "language_info": {
   "codemirror_mode": {
    "name": "ipython",
    "version": 3
   },
   "file_extension": ".py",
   "mimetype": "text/x-python",
   "name": "python",
   "nbconvert_exporter": "python",
   "pygments_lexer": "ipython3",
   "version": "3.7.7"
  }
 },
 "nbformat": 4,
 "nbformat_minor": 4
}
