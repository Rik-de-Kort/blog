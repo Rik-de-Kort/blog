{
 "cells": [
  {
   "cell_type": "markdown",
   "metadata": {},
   "source": [
    "# \"Fun and games\"\n",
    "> \"Solving a combinatorial puzzle using a SAT solver\""
   ]
  },
  {
   "cell_type": "markdown",
   "metadata": {},
   "source": [
    "Quite recently, a friend messaged me with a nice combinatorial puzzle. He was organizing a get-away weekend, and had the following problem: given 6 teams and 5 games which are all 1 versus 1, how does one obtain a schedule in which every team plays every game once, *and* every team plays every other team once?\n",
    "\n",
    "I promised him I would look into it, and needed to hurry (in a dramatic twist, he needed his answer before nightfall). After an hour or 2 with the computer I was able to solve the problem satisfactorily (as you will find out below, that is a pun). Below I'll walk you through some of the steps and the thinking process.\n"
   ]
  },
  {
   "cell_type": "markdown",
   "metadata": {},
   "source": [
    "# Approach\n",
    "As any good mathematician does, I started by defining clear, unambiguous notation. In particular, I settled on denoting the teams simply by their numbers $i, j = 1, 2, 3, 4, 5, 6$, and games by $G = A, B, C, D, E$. There is also the additional constraint of *rounds*: a team can't be in two places at the same time, so you have to have multiple rounds of games. I simply denote these $n= 1, 2,...$. As we will see, we can get away with exactly 5 rounds.\n",
    "\n",
    "Sometimes, the problem at hand looks very similar to another problem you have seen before, and for which you can simply look up the solution. I wasn't able to see something, so I decided to go for more general approaches.\n",
    "\n",
    "After a false start of looking at [integer programming](https://en.wikipedia.org/wiki/Integer_programming) formulations of the problems, I remembered that last year I watched a super nice talk by Raymond Hettinger: [Modern solvers: Problems well-defined are problems solved](https://www.youtube.com/watch?v=_GP9OpZPUYc). In that talk, he talks about leveraging generic solvers to solve all kinds of problems.  \n",
    "One of the problems he looks at is satisfiability, or the question whether a certain logical formula can be true, and if so, what assumptions make it true. That is a good fit for this problem, so I decided to use the code he made available at [rhettinger.github.io](https://rhettinger.github.io/einstein.html). If you have a SAT-like problem of your own to solve, I would recommend you use it, it makes the whole business quite intuitive.\n"
   ]
  },
  {
   "cell_type": "markdown",
   "metadata": {},
   "source": [
    "# Using a SAT solver\n",
    "To use a SAT solver, you need to express the constraints of your problem in logic. You have some basic facts about the game, like \n",
    "> team 3 played game B in round 4\n",
    "\n",
    "and use them to express things like \n",
    "> not ((team 3 played game B in round 4) and (team 3 played game C in round 4))\n",
    "\n",
    "which amounts to saying that team 3 can't play both game B and game C in round 4. Combining statements like this, you form a big logical formula that exactly expresses the contraints of your problem. The SAT solver then finds which basic facts must be true so that the big logical formula is true.\n",
    "\n",
    "To put this into practice, let's apply this small example to our SAT solver. We start by writing down our predicates.\n"
   ]
  },
  {
   "cell_type": "code",
   "execution_count": 1,
   "metadata": {},
   "outputs": [],
   "source": [
    "from util import *\n",
    "\n",
    "x = \"team 3 played game B in round 4\"\n",
    "y = \"team 3 played game C in round 4\""
   ]
  },
  {
   "cell_type": "markdown",
   "metadata": {},
   "source": [
    "The solver expects a formula in \"conjunctive normal form\". That sounds pretty scary, but it's not so bad: \"conjunction\" is another way of saying \"and\". A conjunction is nothing but a list of logical statements `[A, B, C]` saying that A and B and C are all true. To be a CNF, each of the formulas `A, B, C` cannot contain any further conjunctions (and-operators). That's it!\n",
    "\n",
    "In our problem, we have a statement that's not in CNF: we would write the statement\n",
    "\n",
    "> ~(x and y)\n",
    "\n",
    "But this contains a `~` (not) outside the `and`. The conjunctive normal form of this is `(~x or ~y)`, with all the `and`-clauses at the outermost level (there are none), and only `or`-clauses (disjunctions) in the middle, and negations only on the basic predicates. For the computer, this logical phrase becomes:\n"
   ]
  },
  {
   "cell_type": "code",
   "execution_count": 2,
   "metadata": {},
   "outputs": [
    {
     "data": {
      "text/plain": [
       "[('~team 3 played game B in round 4', '~team 3 played game C in round 4')]"
      ]
     },
     "execution_count": 2,
     "metadata": {},
     "output_type": "execute_result"
    }
   ],
   "source": [
    "cnf = [(neg(x), neg(y))]\n",
    "cnf"
   ]
  },
  {
   "cell_type": "markdown",
   "metadata": {},
   "source": [
    "Where we have used the `neg` function that Raymond already wrote for us. The outermost level is a list of conjunctions, while the inner level is a tuple of disjunctions.  \n",
    "\n",
    "We can now input these into our SAT solver.\n"
   ]
  },
  {
   "cell_type": "code",
   "execution_count": 3,
   "metadata": {},
   "outputs": [
    {
     "data": {
      "text/plain": [
       "[['~team 3 played game B in round 4', '~team 3 played game C in round 4'],\n",
       " ['~team 3 played game B in round 4', 'team 3 played game C in round 4'],\n",
       " ['team 3 played game B in round 4', '~team 3 played game C in round 4']]"
      ]
     },
     "execution_count": 3,
     "metadata": {},
     "output_type": "execute_result"
    }
   ],
   "source": [
    "solve_all(cnf, include_neg=True)"
   ]
  },
  {
   "cell_type": "markdown",
   "metadata": {},
   "source": [
    "The SAT solver is telling us there are three possible solutions: \n",
    "- team 3 doesn't play game B or C in round 4 (I suppose they could be taking a break?)\n",
    "- team 3 plays game C in round 4\n",
    "- team 3 plays game B in round 4\n"
   ]
  },
  {
   "cell_type": "markdown",
   "metadata": {},
   "source": [
    "# Expressing the problem\n",
    "We're now ready to address the full problem. For convenience, we define the statement \"team i plays game G in round n\" as `x(n, i, G)`, writing a little helper function to generate it. We are going to build the final formula incrementally, so we start with an empty list."
   ]
  },
  {
   "cell_type": "code",
   "execution_count": 4,
   "metadata": {},
   "outputs": [],
   "source": [
    "from itertools import product, combinations\n",
    "from util import *"
   ]
  },
  {
   "cell_type": "code",
   "execution_count": 5,
   "metadata": {},
   "outputs": [
    {
     "data": {
      "text/plain": [
       "'in round 4, team 2 plays game B'"
      ]
     },
     "execution_count": 5,
     "metadata": {},
     "output_type": "execute_result"
    }
   ],
   "source": [
    "games = [\"A\", \"B\", \"C\", \"D\", \"E\"]\n",
    "teams = [1, 2, 3, 4, 5, 6]\n",
    "rounds = [1, 2, 3, 4, 5]\n",
    "\n",
    "x = lambda n, i, G: f\"in round {n}, team {i} plays game {G}\"\n",
    "\n",
    "cnf = []\n",
    "\n",
    "x(4, 2, \"B\")"
   ]
  },
  {
   "cell_type": "markdown",
   "metadata": {},
   "source": [
    "There are several things we need to express about the game. The first two are constraints based on our formulation, and the other two specify our desired solution.\n",
    "- Each round each team can only play one game\n",
    "- Games are one versus one\n",
    "- Every team has played every game\n",
    "- Each team has played every other team\n",
    "\n",
    "Let's start by implementing the fact that a team can only play one game per round. For this we use the `one_of` function, which expresses that *exactly* one of the clauses is true."
   ]
  },
  {
   "cell_type": "code",
   "execution_count": 6,
   "metadata": {},
   "outputs": [
    {
     "data": {
      "text/plain": [
       "330"
      ]
     },
     "execution_count": 6,
     "metadata": {},
     "output_type": "execute_result"
    }
   ],
   "source": [
    "for n, i in product(rounds, teams):\n",
    "    cnf += one_of([x(n, i, G) for G in games])\n",
    "    \n",
    "len(cnf)"
   ]
  },
  {
   "cell_type": "markdown",
   "metadata": {},
   "source": [
    "Already we have 330 clauses, but of course this is peanuts for our computer. To express the fact that games are one versus one, we say that for every round, and for every game, there are exactly two teams playing any particular game [1]. We can use the `Q` class from `util.py` to express this. `Q` takes a list of predicates, and states how many of them are true."
   ]
  },
  {
   "cell_type": "code",
   "execution_count": 7,
   "metadata": {},
   "outputs": [
    {
     "data": {
      "text/plain": [
       "(980,\n",
       " [('~in round 1, team 1 plays game A', '~in round 1, team 1 plays game B'),\n",
       "  ('~in round 1, team 1 plays game A', '~in round 1, team 1 plays game C'),\n",
       "  ('~in round 1, team 1 plays game A', '~in round 1, team 1 plays game D')])"
      ]
     },
     "execution_count": 7,
     "metadata": {},
     "output_type": "execute_result"
    }
   ],
   "source": [
    "for n, G in product(rounds, games):\n",
    "    cnf += (Q([x(n, i, G) for i in teams]) == 2)\n",
    "    \n",
    "len(cnf), cnf[:3]"
   ]
  },
  {
   "cell_type": "markdown",
   "metadata": {},
   "source": [
    "Now to add one of our desired properties, that every team has played every game. We use the `some_of` function here, which says that *at least* one of the clauses is true."
   ]
  },
  {
   "cell_type": "code",
   "execution_count": 8,
   "metadata": {},
   "outputs": [
    {
     "data": {
      "text/plain": [
       "1010"
      ]
     },
     "execution_count": 8,
     "metadata": {},
     "output_type": "execute_result"
    }
   ],
   "source": [
    "for i, G in product(teams, games):\n",
    "    cnf += some_of([x(n, i, G) for n in rounds])\n",
    "\n",
    "len(cnf)"
   ]
  },
  {
   "cell_type": "markdown",
   "metadata": {},
   "source": [
    "So far so good, but now it gets tricky! How do we express the fact that every team has played every other team? Saying this must mean there are some round n and some game G for which both \"team i plays game G in round n\" and \"team j plays game G in round n\" must be true. We would like to use the `some_of` function here, but it doesn't apply to composites like `x(n, i, G) and x(n, j, G)`, only lists of individual `x`'s.  \n",
    "Instead, we have to turn to the `from_dnf` function. A DNF is similar to a CNF, but with the roles of the `or` and `and` reversed. We can easily express the fact in DNF: we enter the clauses `x(n, i, G) and x(n, j, G)` for every $n$ and $G$. For 5 rounds and 5 games, that will give us 25 clauses.  \n",
    "Applying the `from_dnf` function allows us to take this DNF and turn it into an equivalent CNF. However, this really blows up the logical statement: it is exponential in the number of clauses, and for our problem we have 15 times $15 \\cdot 2^{15} \\approx 503\\cdot 10^6$ clauses! As a result, the code below will quickly exceed memory capacity."
   ]
  },
  {
   "cell_type": "raw",
   "metadata": {},
   "source": [
    "for i in teams:\n",
    "    other_teams = [j for j in teams if i != j]\n",
    "    # Played against team j at all:\n",
    "    def z(j):\n",
    "        print(j)\n",
    "        dnf = [[x(n, i, G), x(n, j, G)] for n, G in product(rounds, games)]\n",
    "        return from_dnf(dnf)\n",
    "        \n",
    "    cnf += all_of([z(j) for j in other_teams])\n",
    "    "
   ]
  },
  {
   "cell_type": "markdown",
   "metadata": {},
   "source": [
    "# Pivoting\n",
    "Fear not, because all is not lost! By swapping out the fundamental statements to be \"in round n, team i plays team j in game G\", it becomes very easy to express the condition that all teams play eachother. We simply need to include both \"team i plays team j\" and \"team j plays team i\".\n"
   ]
  },
  {
   "cell_type": "code",
   "execution_count": 9,
   "metadata": {},
   "outputs": [
    {
     "data": {
      "text/plain": [
       "30"
      ]
     },
     "execution_count": 9,
     "metadata": {},
     "output_type": "execute_result"
    }
   ],
   "source": [
    "games = [\"A\", \"B\", \"C\", \"D\", \"E\"]\n",
    "teams = [1, 2, 3, 4, 5, 6]\n",
    "rounds = [1, 2, 3, 4, 5]\n",
    "\n",
    "x = lambda n, i, j, G: f\"In round {n}, team {i} plays team {j} in game {G}\"\n",
    "\n",
    "cnf = []\n",
    "for i in teams:\n",
    "    other_teams = [j for j in teams if i != j]\n",
    "    for j in other_teams:\n",
    "        cnf += some_of([x(n, i, j, G) for n, G in product(rounds, games)]\n",
    "                       +[x(n, j, i, G) for n, G in product(rounds, games)])\n",
    "    \n",
    "len(cnf)"
   ]
  },
  {
   "cell_type": "markdown",
   "metadata": {},
   "source": [
    "Now to the other rules. To remind ourselves, they are:\n",
    "\n",
    "* Games are one versus one\n",
    "* Each team can only play one game per round\n",
    "* Every team has played every game\n",
    "\n",
    "There is a fourth one introduced by our notation: the statement `x(n, i, i, G)` would imply that team $i$ played itself, and this can of course not happen.\n",
    "\n",
    "* A team cannot play against itself.\n",
    "\n",
    "Now the first one is easy to implement: it is encoded in the structure of the statement itself! The others follow.\n"
   ]
  },
  {
   "cell_type": "code",
   "execution_count": 10,
   "metadata": {},
   "outputs": [
    {
     "data": {
      "text/plain": [
       "36990"
      ]
     },
     "execution_count": 10,
     "metadata": {},
     "output_type": "execute_result"
    }
   ],
   "source": [
    "# Every team plays every game:\n",
    "# There exist n, j such that in round n, i plays j in game G\n",
    "for i, G in product(teams, games):\n",
    "    cnf += some_of([x(n, i, j, G) for n, j in product(rounds, teams)]\n",
    "                   + [x(n, j, i, G) for n, j in product(rounds, teams)])\n",
    "    \n",
    "\n",
    "# Each team can only play one game per round\n",
    "# Exactly one of x(n, i, *, *) or x(n, *, i, *) is true per round\n",
    "for i, n in product(teams, rounds):\n",
    "    other_teams = [j for j in teams if j != i]\n",
    "    cnf += one_of([x(n, i, j, G) for j, G in product(other_teams, games)] +\n",
    "                 [x(n, j, i, G) for j, G in product(other_teams, games)])\n",
    "\n",
    "\n",
    "# A team cannot play against itself\n",
    "for i, n, G in product(teams, rounds, games):\n",
    "    cnf += [[neg(x(n, i, i, G))]]\n",
    "    \n",
    "    \n",
    "len(cnf)"
   ]
  },
  {
   "cell_type": "markdown",
   "metadata": {},
   "source": [
    "That seems rather manageable. And indeed, our SAT solver finds one quickly. We simply apply `solve_one` to get a single solution, sorting it for readability. By default, the SAT solver only lists true clauses."
   ]
  },
  {
   "cell_type": "code",
   "execution_count": 11,
   "metadata": {},
   "outputs": [
    {
     "data": {
      "text/plain": [
       "['In round 1, team 2 plays team 5 in game C',\n",
       " 'In round 1, team 3 plays team 6 in game E',\n",
       " 'In round 1, team 4 plays team 1 in game B',\n",
       " 'In round 2, team 1 plays team 6 in game A',\n",
       " 'In round 2, team 2 plays team 4 in game E',\n",
       " 'In round 2, team 3 plays team 5 in game B',\n",
       " 'In round 3, team 3 plays team 1 in game C',\n",
       " 'In round 3, team 5 plays team 4 in game A',\n",
       " 'In round 3, team 6 plays team 2 in game B',\n",
       " 'In round 4, team 2 plays team 1 in game D',\n",
       " 'In round 4, team 4 plays team 3 in game D',\n",
       " 'In round 4, team 5 plays team 6 in game D',\n",
       " 'In round 5, team 2 plays team 3 in game A',\n",
       " 'In round 5, team 5 plays team 1 in game E',\n",
       " 'In round 5, team 6 plays team 4 in game C']"
      ]
     },
     "execution_count": 11,
     "metadata": {},
     "output_type": "execute_result"
    }
   ],
   "source": [
    "sorted(solve_one(cnf))"
   ]
  },
  {
   "cell_type": "markdown",
   "metadata": {},
   "source": [
    "You can check for yourself that it satisfies all the constraints. Note that this is only one of the possible solutions. Just from this one, we can generate another $6! \\cdot 5! \\cdot 5! \\approx 10\\cdot 10^6$ more, by reordering rounds, teams, and games."
   ]
  },
  {
   "cell_type": "markdown",
   "metadata": {},
   "source": [
    "# Summary and conclusion\n",
    "We discussed a problem involving 6 teams and 5 teams. The question was if we could find a roster in which every team plays every game, and every team plays every other team. Inspired by [this talk]() from Raymond Hettinger, we applied a SAT solver to the problem. We found out that the encoding of basic facts can matter a lot for the feasilibity of computing a solution, but in the end we developed a satisfactory (get it?) solution in just 34 lines of code.  \n",
    "\n",
    "If you ever come across a similar problem, I hope this post is helpful in developing a solution. Until next time!"
   ]
  },
  {
   "cell_type": "markdown",
   "metadata": {},
   "source": [
    "## Notes\n",
    "1. This also inadvertently introduces the constraint that every game must be played in every round. If the SAT solver pointed out that a feasible solution could not be found, we would have to change it."
   ]
  }
 ],
 "metadata": {
  "kernelspec": {
   "display_name": "Python 3",
   "language": "python",
   "name": "python3"
  },
  "language_info": {
   "codemirror_mode": {
    "name": "ipython",
    "version": 3
   },
   "file_extension": ".py",
   "mimetype": "text/x-python",
   "name": "python",
   "nbconvert_exporter": "python",
   "pygments_lexer": "ipython3",
   "version": "3.7.7"
  }
 },
 "nbformat": 4,
 "nbformat_minor": 2
}
