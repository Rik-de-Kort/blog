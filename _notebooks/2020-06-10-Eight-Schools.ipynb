{
 "cells": [
  {
   "cell_type": "markdown",
   "metadata": {},
   "source": [
    "# \"MCMC From Scratch IV: Eight Schools\"\n",
    "> \"In which we try to solve the actual problem\""
   ]
  },
  {
   "cell_type": "markdown",
   "metadata": {},
   "source": [
    "A long, long time ago we introduced the Eight Schools problem (in our first notebook) and the application of Bayesian statistics to it. Then we introduced Markov Chain Monte Carlo, and learned how to work with it, primarily by monitoring convergence and making adjustments as needed.\n",
    "\n",
    "In this notebook, we'll apply the techniques from the previous notebooks to arrive at some insight for the Eight Schools problem."
   ]
  },
  {
   "cell_type": "code",
   "execution_count": 1,
   "metadata": {},
   "outputs": [
    {
     "data": {
      "text/plain": [
       "DataTransformerRegistry.enable('json_dir')"
      ]
     },
     "execution_count": 1,
     "metadata": {},
     "output_type": "execute_result"
    }
   ],
   "source": [
    "import numpy as np\n",
    "import altair as alt\n",
    "import pandas as pd\n",
    "from scipy.stats import norm, halfcauchy, uniform\n",
    "from tqdm import tqdm\n",
    "\n",
    "from mcmc import json_dir, simulate_multiple, generate_sample, transition_MH, convergence, Rhat\n",
    "\n",
    "alt.data_transformers.register('json_dir', json_dir)\n",
    "alt.data_transformers.enable('json_dir', data_dir='/altairdata')"
   ]
  },
  {
   "cell_type": "code",
   "execution_count": 2,
   "metadata": {},
   "outputs": [
    {
     "data": {
      "text/html": [
       "\n",
       "<div id=\"altair-viz-bd6b9959d7344da8863f06db6f9876d8\"></div>\n",
       "<script type=\"text/javascript\">\n",
       "  (function(spec, embedOpt){\n",
       "    let outputDiv = document.currentScript.previousElementSibling;\n",
       "    if (outputDiv.id !== \"altair-viz-bd6b9959d7344da8863f06db6f9876d8\") {\n",
       "      outputDiv = document.getElementById(\"altair-viz-bd6b9959d7344da8863f06db6f9876d8\");\n",
       "    }\n",
       "    const paths = {\n",
       "      \"vega\": \"https://cdn.jsdelivr.net/npm//vega@5?noext\",\n",
       "      \"vega-lib\": \"https://cdn.jsdelivr.net/npm//vega-lib?noext\",\n",
       "      \"vega-lite\": \"https://cdn.jsdelivr.net/npm//vega-lite@4.8.1?noext\",\n",
       "      \"vega-embed\": \"https://cdn.jsdelivr.net/npm//vega-embed@6?noext\",\n",
       "    };\n",
       "\n",
       "    function loadScript(lib) {\n",
       "      return new Promise(function(resolve, reject) {\n",
       "        var s = document.createElement('script');\n",
       "        s.src = paths[lib];\n",
       "        s.async = true;\n",
       "        s.onload = () => resolve(paths[lib]);\n",
       "        s.onerror = () => reject(`Error loading script: ${paths[lib]}`);\n",
       "        document.getElementsByTagName(\"head\")[0].appendChild(s);\n",
       "      });\n",
       "    }\n",
       "\n",
       "    function showError(err) {\n",
       "      outputDiv.innerHTML = `<div class=\"error\" style=\"color:red;\">${err}</div>`;\n",
       "      throw err;\n",
       "    }\n",
       "\n",
       "    function displayChart(vegaEmbed) {\n",
       "      vegaEmbed(outputDiv, spec, embedOpt)\n",
       "        .catch(err => showError(`Javascript Error: ${err.message}<br>This usually means there's a typo in your chart specification. See the javascript console for the full traceback.`));\n",
       "    }\n",
       "\n",
       "    if(typeof define === \"function\" && define.amd) {\n",
       "      requirejs.config({paths});\n",
       "      require([\"vega-embed\"], displayChart, err => showError(`Error loading script: ${err.message}`));\n",
       "    } else if (typeof vegaEmbed === \"function\") {\n",
       "      displayChart(vegaEmbed);\n",
       "    } else {\n",
       "      loadScript(\"vega\")\n",
       "        .then(() => loadScript(\"vega-lite\"))\n",
       "        .then(() => loadScript(\"vega-embed\"))\n",
       "        .catch(showError)\n",
       "        .then(() => displayChart(vegaEmbed));\n",
       "    }\n",
       "  })({\"config\": {\"view\": {\"continuousWidth\": 400, \"continuousHeight\": 300}, \"axisX\": {\"labelAngle\": 0}}, \"data\": {\"url\": \"/altairdata/altair-data-c2c211e74b76912a400e413f8e6115cf.json\", \"format\": {\"type\": \"json\"}}, \"mark\": \"bar\", \"encoding\": {\"x\": {\"type\": \"nominal\", \"field\": \"school\"}, \"y\": {\"type\": \"quantitative\", \"field\": \"effect_estimate\"}}, \"width\": 500, \"$schema\": \"https://vega.github.io/schema/vega-lite/v4.8.1.json\"}, {\"mode\": \"vega-lite\"});\n",
       "</script>"
      ],
      "text/plain": [
       "alt.Chart(...)"
      ]
     },
     "execution_count": 2,
     "metadata": {},
     "output_type": "execute_result"
    }
   ],
   "source": [
    "effect_estimates = np.array([28, 8, -3, 7, -1, 1, 18, 12])\n",
    "std_estimates = np.array([15, 10, 16, 11, 9, 11, 10, 18])\n",
    "school_names = [\"A\", \"B\", \"C\", \"D\", \"E\", \"F\", \"G\", \"H\"]\n",
    "\n",
    "data = pd.DataFrame({\"effect_estimate\": effect_estimates,\n",
    "                   \"std_estimate\": std_estimates,\n",
    "                  \"school\": school_names})\n",
    "\n",
    "original = alt.Chart(data).mark_bar().encode(x=\"school\", y=\"effect_estimate\").properties(width=500)\n",
    "original.configure_axisX(labelAngle=0)"
   ]
  },
  {
   "cell_type": "markdown",
   "metadata": {},
   "source": [
    "# Implementation\n",
    "We created the probability proportion in our first notebook. We have priors on `mu` and `sigma` that lead to the true effects `t`, that lead to the observed effect estimates `effect_estimates`.\n",
    "\n",
    "Since the numbers coming out of this function, we use the logarithm of probability proportion instead, and modify our MH-sampler accordingly.\n",
    "\n",
    "Additionally, it turns out we get a much better sampler if we reparametrize `t` to be `t = mu + eta*sigma` where `eta` is standard normal.\n",
    "\n",
    "We initialize our transition function with a scale of 0.5."
   ]
  },
  {
   "cell_type": "code",
   "execution_count": 3,
   "metadata": {},
   "outputs": [],
   "source": [
    "def log_p_prop(q):\n",
    "    assert len(q) == 10\n",
    "    *eta, mu, sigma = q\n",
    "    t = [mu + e*sigma for e in eta]\n",
    "    \n",
    "    if sigma <= 0: return -np.inf\n",
    "    \n",
    "    p_mu = np.log(norm.pdf(mu, loc=8.75, scale=20))\n",
    "    p_sigma = np.log(halfcauchy.pdf(sigma, loc=0, scale=5))\n",
    "    p_eta = np.log(norm.pdf(eta)).sum()\n",
    "    p_ee_t = np.log(norm.pdf(effect_estimates, loc=t, scale=std_estimates)).sum()\n",
    "    return p_ee_t + p_eta + p_mu + p_sigma\n",
    "\n",
    "def transition_MH_log(current, log_p_prop, scale=1):\n",
    "    proposal = tuple(norm.rvs(current, scale=scale))\n",
    "    u = uniform.rvs()\n",
    "    return proposal if log_p_prop(proposal) - log_p_prop(current) > np.log(u) else current\n",
    "\n",
    "transition = lambda q: transition_MH_log(q, log_p_prop, scale=0.5)"
   ]
  },
  {
   "cell_type": "markdown",
   "metadata": {},
   "source": [
    "We use 4 chains, picking starting points at extreme values."
   ]
  },
  {
   "cell_type": "code",
   "execution_count": 4,
   "metadata": {},
   "outputs": [
    {
     "data": {
      "text/plain": [
       "[array([-6.04750549, -1.25484591, -3.22637901,  0.46608746,  0.35213615,\n",
       "         0.44602285,  0.14927671,  2.3390834 , 27.71938233,  2.03730451]),\n",
       " array([-2.63713616, -3.73081925,  2.85571866,  5.39713329, -8.24680864,\n",
       "         1.91387522, -5.31124558, -3.48525332, -7.18339837,  1.37825265]),\n",
       " array([ 5.75623003,  2.71323552,  7.45520769,  0.66492298,  3.23292559,\n",
       "        -5.15362589,  2.20975691, -1.02537958, 25.62653566,  8.3254704 ]),\n",
       " array([ 3.43142137, -2.34022024,  2.25220227, -2.0212946 , -1.474567  ,\n",
       "         1.0436941 , -3.95965747,  4.85534305,  9.7928197 ,  2.6873203 ])]"
      ]
     },
     "execution_count": 4,
     "metadata": {},
     "output_type": "execute_result"
    }
   ],
   "source": [
    "draw_eta = lambda: norm.rvs(0, scale=5, size=8)\n",
    "draw_mu = lambda: norm.rvs(loc=8.75, scale=20)\n",
    "draw_sigma = lambda: halfcauchy.rvs(loc=0, scale=6)\n",
    "\n",
    "initial_points = [np.hstack([draw_eta(), draw_mu(), draw_sigma()]) for _ in range(4)]\n",
    "initial_points"
   ]
  },
  {
   "cell_type": "markdown",
   "metadata": {},
   "source": [
    "Since our Metropolis-Hastings sampler is fairly inefficient (or badly configured), We run these 4 chains for 5000 iterations each, warming up with 1000 iterations."
   ]
  },
  {
   "cell_type": "code",
   "execution_count": 5,
   "metadata": {},
   "outputs": [
    {
     "name": "stderr",
     "output_type": "stream",
     "text": [
      "100%|██████████| 1000/1000 [00:01<00:00, 950.64it/s]\n",
      "100%|██████████| 4999/4999 [00:04<00:00, 1111.93it/s]\n",
      "100%|██████████| 1000/1000 [00:00<00:00, 1130.26it/s]\n",
      "100%|██████████| 4999/4999 [00:04<00:00, 1132.12it/s]\n",
      "100%|██████████| 1000/1000 [00:00<00:00, 1116.97it/s]\n",
      "100%|██████████| 4999/4999 [00:04<00:00, 1143.02it/s]\n",
      "100%|██████████| 1000/1000 [00:00<00:00, 1153.04it/s]\n",
      "100%|██████████| 4999/4999 [00:04<00:00, 1137.17it/s]\n"
     ]
    },
    {
     "data": {
      "text/html": [
       "<div>\n",
       "<style scoped>\n",
       "    .dataframe tbody tr th:only-of-type {\n",
       "        vertical-align: middle;\n",
       "    }\n",
       "\n",
       "    .dataframe tbody tr th {\n",
       "        vertical-align: top;\n",
       "    }\n",
       "\n",
       "    .dataframe thead th {\n",
       "        text-align: right;\n",
       "    }\n",
       "</style>\n",
       "<table border=\"1\" class=\"dataframe\">\n",
       "  <thead>\n",
       "    <tr style=\"text-align: right;\">\n",
       "      <th></th>\n",
       "      <th>simulation</th>\n",
       "      <th>i</th>\n",
       "      <th>x0</th>\n",
       "      <th>x1</th>\n",
       "      <th>x2</th>\n",
       "      <th>x3</th>\n",
       "      <th>x4</th>\n",
       "      <th>x5</th>\n",
       "      <th>x6</th>\n",
       "      <th>x7</th>\n",
       "      <th>mu</th>\n",
       "      <th>sigma</th>\n",
       "    </tr>\n",
       "  </thead>\n",
       "  <tbody>\n",
       "    <tr>\n",
       "      <th>0</th>\n",
       "      <td>0</td>\n",
       "      <td>0</td>\n",
       "      <td>-0.246168</td>\n",
       "      <td>0.256682</td>\n",
       "      <td>-0.725178</td>\n",
       "      <td>-0.711941</td>\n",
       "      <td>-0.348900</td>\n",
       "      <td>-0.249246</td>\n",
       "      <td>-0.763866</td>\n",
       "      <td>1.404564</td>\n",
       "      <td>3.858413</td>\n",
       "      <td>0.705033</td>\n",
       "    </tr>\n",
       "    <tr>\n",
       "      <th>1</th>\n",
       "      <td>0</td>\n",
       "      <td>1</td>\n",
       "      <td>-0.246168</td>\n",
       "      <td>0.256682</td>\n",
       "      <td>-0.725178</td>\n",
       "      <td>-0.711941</td>\n",
       "      <td>-0.348900</td>\n",
       "      <td>-0.249246</td>\n",
       "      <td>-0.763866</td>\n",
       "      <td>1.404564</td>\n",
       "      <td>3.858413</td>\n",
       "      <td>0.705033</td>\n",
       "    </tr>\n",
       "    <tr>\n",
       "      <th>2</th>\n",
       "      <td>0</td>\n",
       "      <td>2</td>\n",
       "      <td>-0.246168</td>\n",
       "      <td>0.256682</td>\n",
       "      <td>-0.725178</td>\n",
       "      <td>-0.711941</td>\n",
       "      <td>-0.348900</td>\n",
       "      <td>-0.249246</td>\n",
       "      <td>-0.763866</td>\n",
       "      <td>1.404564</td>\n",
       "      <td>3.858413</td>\n",
       "      <td>0.705033</td>\n",
       "    </tr>\n",
       "    <tr>\n",
       "      <th>3</th>\n",
       "      <td>0</td>\n",
       "      <td>3</td>\n",
       "      <td>-0.357963</td>\n",
       "      <td>0.723806</td>\n",
       "      <td>-0.496617</td>\n",
       "      <td>-0.368671</td>\n",
       "      <td>-0.044607</td>\n",
       "      <td>0.084971</td>\n",
       "      <td>0.324904</td>\n",
       "      <td>1.861539</td>\n",
       "      <td>3.623143</td>\n",
       "      <td>1.076791</td>\n",
       "    </tr>\n",
       "    <tr>\n",
       "      <th>4</th>\n",
       "      <td>0</td>\n",
       "      <td>4</td>\n",
       "      <td>-0.920588</td>\n",
       "      <td>-0.322486</td>\n",
       "      <td>-0.277006</td>\n",
       "      <td>-0.139981</td>\n",
       "      <td>-0.366585</td>\n",
       "      <td>-0.001361</td>\n",
       "      <td>-0.283373</td>\n",
       "      <td>1.773508</td>\n",
       "      <td>3.742467</td>\n",
       "      <td>0.384130</td>\n",
       "    </tr>\n",
       "  </tbody>\n",
       "</table>\n",
       "</div>"
      ],
      "text/plain": [
       "   simulation  i        x0        x1        x2        x3        x4        x5  \\\n",
       "0           0  0 -0.246168  0.256682 -0.725178 -0.711941 -0.348900 -0.249246   \n",
       "1           0  1 -0.246168  0.256682 -0.725178 -0.711941 -0.348900 -0.249246   \n",
       "2           0  2 -0.246168  0.256682 -0.725178 -0.711941 -0.348900 -0.249246   \n",
       "3           0  3 -0.357963  0.723806 -0.496617 -0.368671 -0.044607  0.084971   \n",
       "4           0  4 -0.920588 -0.322486 -0.277006 -0.139981 -0.366585 -0.001361   \n",
       "\n",
       "         x6        x7        mu     sigma  \n",
       "0 -0.763866  1.404564  3.858413  0.705033  \n",
       "1 -0.763866  1.404564  3.858413  0.705033  \n",
       "2 -0.763866  1.404564  3.858413  0.705033  \n",
       "3  0.324904  1.861539  3.623143  1.076791  \n",
       "4 -0.283373  1.773508  3.742467  0.384130  "
      ]
     },
     "execution_count": 5,
     "metadata": {},
     "output_type": "execute_result"
    }
   ],
   "source": [
    "df = simulate_multiple(initial_points, transition, n_iter=5000, n_warmup=1000)\n",
    "df = df.rename(columns={\"x8\": \"mu\", \"x9\": \"sigma\"})\n",
    "df.head()"
   ]
  },
  {
   "cell_type": "code",
   "execution_count": 6,
   "metadata": {},
   "outputs": [
    {
     "name": "stderr",
     "output_type": "stream",
     "text": [
      "100%|██████████| 101/101 [00:31<00:00,  3.24it/s]\n"
     ]
    }
   ],
   "source": [
    "params = [f\"x{i}\" for i in range(8)] + [\"mu\", \"sigma\"]\n",
    "df_Rhat = convergence(df, params)"
   ]
  },
  {
   "cell_type": "code",
   "execution_count": 7,
   "metadata": {},
   "outputs": [
    {
     "data": {
      "text/html": [
       "\n",
       "<div id=\"altair-viz-db6238dd7b3142e5b9a3d81ed15b50a6\"></div>\n",
       "<script type=\"text/javascript\">\n",
       "  (function(spec, embedOpt){\n",
       "    let outputDiv = document.currentScript.previousElementSibling;\n",
       "    if (outputDiv.id !== \"altair-viz-db6238dd7b3142e5b9a3d81ed15b50a6\") {\n",
       "      outputDiv = document.getElementById(\"altair-viz-db6238dd7b3142e5b9a3d81ed15b50a6\");\n",
       "    }\n",
       "    const paths = {\n",
       "      \"vega\": \"https://cdn.jsdelivr.net/npm//vega@5?noext\",\n",
       "      \"vega-lib\": \"https://cdn.jsdelivr.net/npm//vega-lib?noext\",\n",
       "      \"vega-lite\": \"https://cdn.jsdelivr.net/npm//vega-lite@4.8.1?noext\",\n",
       "      \"vega-embed\": \"https://cdn.jsdelivr.net/npm//vega-embed@6?noext\",\n",
       "    };\n",
       "\n",
       "    function loadScript(lib) {\n",
       "      return new Promise(function(resolve, reject) {\n",
       "        var s = document.createElement('script');\n",
       "        s.src = paths[lib];\n",
       "        s.async = true;\n",
       "        s.onload = () => resolve(paths[lib]);\n",
       "        s.onerror = () => reject(`Error loading script: ${paths[lib]}`);\n",
       "        document.getElementsByTagName(\"head\")[0].appendChild(s);\n",
       "      });\n",
       "    }\n",
       "\n",
       "    function showError(err) {\n",
       "      outputDiv.innerHTML = `<div class=\"error\" style=\"color:red;\">${err}</div>`;\n",
       "      throw err;\n",
       "    }\n",
       "\n",
       "    function displayChart(vegaEmbed) {\n",
       "      vegaEmbed(outputDiv, spec, embedOpt)\n",
       "        .catch(err => showError(`Javascript Error: ${err.message}<br>This usually means there's a typo in your chart specification. See the javascript console for the full traceback.`));\n",
       "    }\n",
       "\n",
       "    if(typeof define === \"function\" && define.amd) {\n",
       "      requirejs.config({paths});\n",
       "      require([\"vega-embed\"], displayChart, err => showError(`Error loading script: ${err.message}`));\n",
       "    } else if (typeof vegaEmbed === \"function\") {\n",
       "      displayChart(vegaEmbed);\n",
       "    } else {\n",
       "      loadScript(\"vega\")\n",
       "        .then(() => loadScript(\"vega-lite\"))\n",
       "        .then(() => loadScript(\"vega-embed\"))\n",
       "        .catch(showError)\n",
       "        .then(() => displayChart(vegaEmbed));\n",
       "    }\n",
       "  })({\"config\": {\"view\": {\"continuousWidth\": 400, \"continuousHeight\": 300}}, \"data\": {\"url\": \"/altairdata/altair-data-d8f5bffff327690d94f98dfa0607ce86.json\", \"format\": {\"type\": \"json\"}}, \"facet\": {\"type\": \"nominal\", \"field\": \"variable\"}, \"spec\": {\"mark\": \"line\", \"encoding\": {\"tooltip\": {\"type\": \"quantitative\", \"field\": \"value\"}, \"x\": {\"type\": \"quantitative\", \"field\": \"i\"}, \"y\": {\"type\": \"quantitative\", \"field\": \"value\"}}}, \"columns\": 2, \"$schema\": \"https://vega.github.io/schema/vega-lite/v4.8.1.json\"}, {\"mode\": \"vega-lite\"});\n",
       "</script>"
      ],
      "text/plain": [
       "alt.FacetChart(...)"
      ]
     },
     "execution_count": 7,
     "metadata": {},
     "output_type": "execute_result"
    }
   ],
   "source": [
    "df_plot = df_Rhat.melt(id_vars=\"i\")\n",
    "alt.Chart(df_plot).mark_line().encode(x=\"i\", y=\"value\", tooltip=\"value\").facet(facet=\"variable\", columns=2)"
   ]
  },
  {
   "cell_type": "markdown",
   "metadata": {},
   "source": [
    "Looks like we have some convergence going on. Let's look at the histograms!"
   ]
  },
  {
   "cell_type": "code",
   "execution_count": 8,
   "metadata": {},
   "outputs": [
    {
     "data": {
      "text/html": [
       "<div>\n",
       "<style scoped>\n",
       "    .dataframe tbody tr th:only-of-type {\n",
       "        vertical-align: middle;\n",
       "    }\n",
       "\n",
       "    .dataframe tbody tr th {\n",
       "        vertical-align: top;\n",
       "    }\n",
       "\n",
       "    .dataframe thead th {\n",
       "        text-align: right;\n",
       "    }\n",
       "</style>\n",
       "<table border=\"1\" class=\"dataframe\">\n",
       "  <thead>\n",
       "    <tr style=\"text-align: right;\">\n",
       "      <th></th>\n",
       "      <th>simulation</th>\n",
       "      <th>i</th>\n",
       "      <th>x0</th>\n",
       "      <th>x1</th>\n",
       "      <th>x2</th>\n",
       "      <th>x3</th>\n",
       "      <th>x4</th>\n",
       "      <th>x5</th>\n",
       "      <th>x6</th>\n",
       "      <th>x7</th>\n",
       "      <th>mu</th>\n",
       "      <th>sigma</th>\n",
       "    </tr>\n",
       "  </thead>\n",
       "  <tbody>\n",
       "    <tr>\n",
       "      <th>0</th>\n",
       "      <td>0</td>\n",
       "      <td>0</td>\n",
       "      <td>3.684856</td>\n",
       "      <td>4.039382</td>\n",
       "      <td>3.347138</td>\n",
       "      <td>3.356471</td>\n",
       "      <td>3.612427</td>\n",
       "      <td>3.682686</td>\n",
       "      <td>3.319862</td>\n",
       "      <td>4.848677</td>\n",
       "      <td>3.858413</td>\n",
       "      <td>0.705033</td>\n",
       "    </tr>\n",
       "    <tr>\n",
       "      <th>1</th>\n",
       "      <td>0</td>\n",
       "      <td>1</td>\n",
       "      <td>3.684856</td>\n",
       "      <td>4.039382</td>\n",
       "      <td>3.347138</td>\n",
       "      <td>3.356471</td>\n",
       "      <td>3.612427</td>\n",
       "      <td>3.682686</td>\n",
       "      <td>3.319862</td>\n",
       "      <td>4.848677</td>\n",
       "      <td>3.858413</td>\n",
       "      <td>0.705033</td>\n",
       "    </tr>\n",
       "    <tr>\n",
       "      <th>2</th>\n",
       "      <td>0</td>\n",
       "      <td>2</td>\n",
       "      <td>3.684856</td>\n",
       "      <td>4.039382</td>\n",
       "      <td>3.347138</td>\n",
       "      <td>3.356471</td>\n",
       "      <td>3.612427</td>\n",
       "      <td>3.682686</td>\n",
       "      <td>3.319862</td>\n",
       "      <td>4.848677</td>\n",
       "      <td>3.858413</td>\n",
       "      <td>0.705033</td>\n",
       "    </tr>\n",
       "    <tr>\n",
       "      <th>3</th>\n",
       "      <td>0</td>\n",
       "      <td>3</td>\n",
       "      <td>3.237692</td>\n",
       "      <td>4.402531</td>\n",
       "      <td>3.088390</td>\n",
       "      <td>3.226162</td>\n",
       "      <td>3.575111</td>\n",
       "      <td>3.714638</td>\n",
       "      <td>3.972997</td>\n",
       "      <td>5.627631</td>\n",
       "      <td>3.623143</td>\n",
       "      <td>1.076791</td>\n",
       "    </tr>\n",
       "    <tr>\n",
       "      <th>4</th>\n",
       "      <td>0</td>\n",
       "      <td>4</td>\n",
       "      <td>3.388841</td>\n",
       "      <td>3.618591</td>\n",
       "      <td>3.636061</td>\n",
       "      <td>3.688696</td>\n",
       "      <td>3.601651</td>\n",
       "      <td>3.741944</td>\n",
       "      <td>3.633615</td>\n",
       "      <td>4.423725</td>\n",
       "      <td>3.742467</td>\n",
       "      <td>0.384130</td>\n",
       "    </tr>\n",
       "  </tbody>\n",
       "</table>\n",
       "</div>"
      ],
      "text/plain": [
       "   simulation  i        x0        x1        x2        x3        x4        x5  \\\n",
       "0           0  0  3.684856  4.039382  3.347138  3.356471  3.612427  3.682686   \n",
       "1           0  1  3.684856  4.039382  3.347138  3.356471  3.612427  3.682686   \n",
       "2           0  2  3.684856  4.039382  3.347138  3.356471  3.612427  3.682686   \n",
       "3           0  3  3.237692  4.402531  3.088390  3.226162  3.575111  3.714638   \n",
       "4           0  4  3.388841  3.618591  3.636061  3.688696  3.601651  3.741944   \n",
       "\n",
       "         x6        x7        mu     sigma  \n",
       "0  3.319862  4.848677  3.858413  0.705033  \n",
       "1  3.319862  4.848677  3.858413  0.705033  \n",
       "2  3.319862  4.848677  3.858413  0.705033  \n",
       "3  3.972997  5.627631  3.623143  1.076791  \n",
       "4  3.633615  4.423725  3.742467  0.384130  "
      ]
     },
     "execution_count": 8,
     "metadata": {},
     "output_type": "execute_result"
    }
   ],
   "source": [
    "cols = [f\"x{i}\" for i in range(8)]\n",
    "df_result = df\n",
    "for col in cols:\n",
    "    df[col] = df.mu + df[col] * df.sigma\n",
    "\n",
    "df_result.head()"
   ]
  },
  {
   "cell_type": "code",
   "execution_count": 9,
   "metadata": {
    "scrolled": false
   },
   "outputs": [
    {
     "data": {
      "text/html": [
       "\n",
       "<div id=\"altair-viz-301f28bf134a40d0b6d9b19b888fe109\"></div>\n",
       "<script type=\"text/javascript\">\n",
       "  (function(spec, embedOpt){\n",
       "    let outputDiv = document.currentScript.previousElementSibling;\n",
       "    if (outputDiv.id !== \"altair-viz-301f28bf134a40d0b6d9b19b888fe109\") {\n",
       "      outputDiv = document.getElementById(\"altair-viz-301f28bf134a40d0b6d9b19b888fe109\");\n",
       "    }\n",
       "    const paths = {\n",
       "      \"vega\": \"https://cdn.jsdelivr.net/npm//vega@5?noext\",\n",
       "      \"vega-lib\": \"https://cdn.jsdelivr.net/npm//vega-lib?noext\",\n",
       "      \"vega-lite\": \"https://cdn.jsdelivr.net/npm//vega-lite@4.8.1?noext\",\n",
       "      \"vega-embed\": \"https://cdn.jsdelivr.net/npm//vega-embed@6?noext\",\n",
       "    };\n",
       "\n",
       "    function loadScript(lib) {\n",
       "      return new Promise(function(resolve, reject) {\n",
       "        var s = document.createElement('script');\n",
       "        s.src = paths[lib];\n",
       "        s.async = true;\n",
       "        s.onload = () => resolve(paths[lib]);\n",
       "        s.onerror = () => reject(`Error loading script: ${paths[lib]}`);\n",
       "        document.getElementsByTagName(\"head\")[0].appendChild(s);\n",
       "      });\n",
       "    }\n",
       "\n",
       "    function showError(err) {\n",
       "      outputDiv.innerHTML = `<div class=\"error\" style=\"color:red;\">${err}</div>`;\n",
       "      throw err;\n",
       "    }\n",
       "\n",
       "    function displayChart(vegaEmbed) {\n",
       "      vegaEmbed(outputDiv, spec, embedOpt)\n",
       "        .catch(err => showError(`Javascript Error: ${err.message}<br>This usually means there's a typo in your chart specification. See the javascript console for the full traceback.`));\n",
       "    }\n",
       "\n",
       "    if(typeof define === \"function\" && define.amd) {\n",
       "      requirejs.config({paths});\n",
       "      require([\"vega-embed\"], displayChart, err => showError(`Error loading script: ${err.message}`));\n",
       "    } else if (typeof vegaEmbed === \"function\") {\n",
       "      displayChart(vegaEmbed);\n",
       "    } else {\n",
       "      loadScript(\"vega\")\n",
       "        .then(() => loadScript(\"vega-lite\"))\n",
       "        .then(() => loadScript(\"vega-embed\"))\n",
       "        .catch(showError)\n",
       "        .then(() => displayChart(vegaEmbed));\n",
       "    }\n",
       "  })({\"config\": {\"view\": {\"continuousWidth\": 400, \"continuousHeight\": 300}}, \"data\": {\"url\": \"/altairdata/altair-data-5dfc8ac14dda42d9c017c7da96e0fa10.json\", \"format\": {\"type\": \"json\"}}, \"facet\": {\"type\": \"nominal\", \"field\": \"variable\"}, \"spec\": {\"mark\": \"bar\", \"encoding\": {\"tooltip\": {\"type\": \"quantitative\", \"bin\": {\"maxbins\": 50}, \"field\": \"value\"}, \"x\": {\"type\": \"quantitative\", \"bin\": {\"maxbins\": 50}, \"field\": \"value\"}, \"y\": {\"type\": \"quantitative\", \"aggregate\": \"count\"}}}, \"columns\": 2, \"$schema\": \"https://vega.github.io/schema/vega-lite/v4.8.1.json\"}, {\"mode\": \"vega-lite\"});\n",
       "</script>"
      ],
      "text/plain": [
       "alt.FacetChart(...)"
      ]
     },
     "execution_count": 9,
     "metadata": {},
     "output_type": "execute_result"
    }
   ],
   "source": [
    "alt.Chart(df.melt(id_vars=[\"i\", \"simulation\"])).mark_bar().encode(\n",
    "    x=alt.X(\"value\", bin=alt.Bin(maxbins=50)),\n",
    "    y=\"count()\",\n",
    "    tooltip=alt.Tooltip(\"value\", bin=alt.Bin(maxbins=50))\n",
    ").facet(\n",
    "    facet=\"variable\",\n",
    "    columns=2,\n",
    ")"
   ]
  },
  {
   "cell_type": "markdown",
   "metadata": {},
   "source": [
    "Let's see how the effect estimates have shrunk."
   ]
  },
  {
   "cell_type": "code",
   "execution_count": 10,
   "metadata": {},
   "outputs": [],
   "source": [
    "df_estimates = pd.DataFrame(zip(school_names, df_result[cols].mean()), columns=[\"school\", \"effect_estimate\"])"
   ]
  },
  {
   "cell_type": "code",
   "execution_count": 11,
   "metadata": {},
   "outputs": [
    {
     "data": {
      "text/html": [
       "\n",
       "<div id=\"altair-viz-e0ddeb74da9f428e82d27baf984c0f34\"></div>\n",
       "<script type=\"text/javascript\">\n",
       "  (function(spec, embedOpt){\n",
       "    let outputDiv = document.currentScript.previousElementSibling;\n",
       "    if (outputDiv.id !== \"altair-viz-e0ddeb74da9f428e82d27baf984c0f34\") {\n",
       "      outputDiv = document.getElementById(\"altair-viz-e0ddeb74da9f428e82d27baf984c0f34\");\n",
       "    }\n",
       "    const paths = {\n",
       "      \"vega\": \"https://cdn.jsdelivr.net/npm//vega@5?noext\",\n",
       "      \"vega-lib\": \"https://cdn.jsdelivr.net/npm//vega-lib?noext\",\n",
       "      \"vega-lite\": \"https://cdn.jsdelivr.net/npm//vega-lite@4.8.1?noext\",\n",
       "      \"vega-embed\": \"https://cdn.jsdelivr.net/npm//vega-embed@6?noext\",\n",
       "    };\n",
       "\n",
       "    function loadScript(lib) {\n",
       "      return new Promise(function(resolve, reject) {\n",
       "        var s = document.createElement('script');\n",
       "        s.src = paths[lib];\n",
       "        s.async = true;\n",
       "        s.onload = () => resolve(paths[lib]);\n",
       "        s.onerror = () => reject(`Error loading script: ${paths[lib]}`);\n",
       "        document.getElementsByTagName(\"head\")[0].appendChild(s);\n",
       "      });\n",
       "    }\n",
       "\n",
       "    function showError(err) {\n",
       "      outputDiv.innerHTML = `<div class=\"error\" style=\"color:red;\">${err}</div>`;\n",
       "      throw err;\n",
       "    }\n",
       "\n",
       "    function displayChart(vegaEmbed) {\n",
       "      vegaEmbed(outputDiv, spec, embedOpt)\n",
       "        .catch(err => showError(`Javascript Error: ${err.message}<br>This usually means there's a typo in your chart specification. See the javascript console for the full traceback.`));\n",
       "    }\n",
       "\n",
       "    if(typeof define === \"function\" && define.amd) {\n",
       "      requirejs.config({paths});\n",
       "      require([\"vega-embed\"], displayChart, err => showError(`Error loading script: ${err.message}`));\n",
       "    } else if (typeof vegaEmbed === \"function\") {\n",
       "      displayChart(vegaEmbed);\n",
       "    } else {\n",
       "      loadScript(\"vega\")\n",
       "        .then(() => loadScript(\"vega-lite\"))\n",
       "        .then(() => loadScript(\"vega-embed\"))\n",
       "        .catch(showError)\n",
       "        .then(() => displayChart(vegaEmbed));\n",
       "    }\n",
       "  })({\"config\": {\"view\": {\"continuousWidth\": 400, \"continuousHeight\": 300}, \"axisX\": {\"labelAngle\": 0}}, \"hconcat\": [{\"data\": {\"url\": \"/altairdata/altair-data-38b3091b1cbbe4b7b025ce6db5ea246b.json\", \"format\": {\"type\": \"json\"}}, \"mark\": \"bar\", \"encoding\": {\"tooltip\": {\"type\": \"quantitative\", \"field\": \"effect_estimate\"}, \"x\": {\"type\": \"nominal\", \"field\": \"school\"}, \"y\": {\"type\": \"quantitative\", \"field\": \"effect_estimate\", \"scale\": {\"domain\": [-5, 30]}}}, \"title\": \"After modelling\", \"width\": 500}, {\"data\": {\"url\": \"/altairdata/altair-data-c2c211e74b76912a400e413f8e6115cf.json\", \"format\": {\"type\": \"json\"}}, \"mark\": \"bar\", \"encoding\": {\"x\": {\"type\": \"nominal\", \"field\": \"school\"}, \"y\": {\"type\": \"quantitative\", \"field\": \"effect_estimate\"}}, \"title\": \"Data\", \"width\": 500}], \"$schema\": \"https://vega.github.io/schema/vega-lite/v4.8.1.json\"}, {\"mode\": \"vega-lite\"});\n",
       "</script>"
      ],
      "text/plain": [
       "alt.HConcatChart(...)"
      ]
     },
     "execution_count": 11,
     "metadata": {},
     "output_type": "execute_result"
    }
   ],
   "source": [
    "new = alt.Chart(df_estimates).mark_bar().encode(\n",
    "    x=\"school\",\n",
    "    y=alt.Y(\"effect_estimate\", scale=alt.Scale(domain=[-5, 30])),\n",
    "    tooltip=\"effect_estimate\",\n",
    ").properties(\n",
    "    width=500\n",
    ").properties(title=\"After modelling\")\n",
    "\n",
    "(new | original.properties(title=\"Data\")).configure_axisX(labelAngle=0)"
   ]
  }
 ],
 "metadata": {
  "kernelspec": {
   "display_name": "Python 3",
   "language": "python",
   "name": "python3"
  },
  "language_info": {
   "codemirror_mode": {
    "name": "ipython",
    "version": 3
   },
   "file_extension": ".py",
   "mimetype": "text/x-python",
   "name": "python",
   "nbconvert_exporter": "python",
   "pygments_lexer": "ipython3",
   "version": "3.7.7"
  }
 },
 "nbformat": 4,
 "nbformat_minor": 2
}
