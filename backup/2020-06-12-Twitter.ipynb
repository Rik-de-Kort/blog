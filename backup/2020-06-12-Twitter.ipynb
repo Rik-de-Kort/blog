{
 "cells": [
  {
   "cell_type": "markdown",
   "metadata": {},
   "source": [
    "# \"Answering a Twitter Question\"\n",
    "> \"Basic monte carlo simulations for Taleb's kappa\""
   ]
  },
  {
   "cell_type": "markdown",
   "metadata": {},
   "source": [
    "# Answering a Twitter question\n",
    "Someone on Twitter [tried to Monte Carlo simulate](https://twitter.com/DRyabich/status/1271188956785319941/photo/1) Taleb's $\\kappa$ (from [Statistical consequences of fat tails](https://arxiv.org/abs/2001.10488)), for a normal distribution, but ran into issues. Maybe the following exposition with standard normal variables (Gaussian with mean 0, variance 1) will help.\n",
    "\n",
    "Taleb's $\\kappa$ is defined for a sum of $n$ random variables, $S_n = \\sum_{i=1}^n X_n$:\n",
    "\n",
    "$$\\kappa_{n} = \\kappa(n, n+1) = 2 - \\frac{\\log(n+1) - \\log(n)}{\\log \\left ( \\frac{M(n+1)}{M(n)} \\right )}$$\n",
    "\n",
    "where\n",
    "\n",
    "$$M(n) = \\mathbb{E}(\\left | S_n - \\mathbb{E}(S_n) \\right |)$$\n",
    "\n",
    "First, let's implement $\\mathbb{M}(n)$. To unwrap the formula, $S_n$ is the sum of $n$ standard normal variables. As we know, [the sum of normal variables is normal](https://en.wikipedia.org/wiki/Sum_of_normally_distributed_random_variables) and its variance is equal to the sum of the variances, and mean equal to the sum of the means. In other words, $S_n \\sim N(0, n)$.\n",
    "\n",
    "But then $\\mathbb{E}(S_n) = 0$ and  the standard deviation (the `scale` parameter in `scipy.stats.norm`) is $\\sqrt{n}$.\n",
    "\n",
    "To calculate $\\mathbb{M}(n)$ via monte carlo, we can thus take a large sample of this $S_n$, apply the absolute value function to it, and calculate the sample mean."
   ]
  },
  {
   "cell_type": "code",
   "execution_count": 4,
   "metadata": {},
   "outputs": [
    {
     "data": {
      "text/plain": [
       "[25.206322069310957,\n",
       " 25.23577354150956,\n",
       " 25.228601059383166,\n",
       " 25.202142323958526,\n",
       " 25.254476571927498,\n",
       " 25.23965574816039,\n",
       " 25.255859740411974,\n",
       " 25.2345045620554,\n",
       " 25.23934429964762,\n",
       " 25.22352113697182]"
      ]
     },
     "execution_count": 4,
     "metadata": {},
     "output_type": "execute_result"
    }
   ],
   "source": [
    "import numpy as np\n",
    "from scipy.stats import norm\n",
    "\n",
    "n_precision = 1_000_000\n",
    "\n",
    "def M(n):\n",
    "    # Since we take the variables to be N(0, 1), S_i ~ N(0, sqrt(i)).\n",
    "    # So E[S_i] = 0, which means that E[|S_i - E[S_i]|] = E[|S_i|].\n",
    "    # So all we need to do is take n_precision samples of S_i,\n",
    "    # apply the absolute value function, and then take the mean\n",
    "    return np.mean(np.abs(norm.rvs(scale=np.sqrt(n), size=n_precision)))\n",
    "\n",
    "[M(1000) for _ in range(10)]"
   ]
  },
  {
   "cell_type": "markdown",
   "metadata": {},
   "source": [
    "And dividing `M(n+1)` by `M(n)`:"
   ]
  },
  {
   "cell_type": "code",
   "execution_count": 6,
   "metadata": {},
   "outputs": [
    {
     "data": {
      "text/plain": [
       "[1.0021439622692407,\n",
       " 1.0003524893992,\n",
       " 1.0002437888464653,\n",
       " 0.9999707169726871,\n",
       " 1.000976732064089,\n",
       " 1.0001976924363172,\n",
       " 1.0000014696860589,\n",
       " 0.9983938903976746,\n",
       " 0.9999057817654673,\n",
       " 0.9988688635204259]"
      ]
     },
     "execution_count": 6,
     "metadata": {},
     "output_type": "execute_result"
    }
   ],
   "source": [
    "[M(1001) / M(1000) for _ in range(10)]"
   ]
  },
  {
   "cell_type": "markdown",
   "metadata": {},
   "source": [
    "Which tends to 1 quite neatly, as expected. Note that it's not possible to plug this into the formula for $\\kappa$, since $\\log(1) = 0$, and we can't divide by 0!"
   ]
  }
 ],
 "metadata": {
  "kernelspec": {
   "display_name": "Python 3",
   "language": "python",
   "name": "python3"
  },
  "language_info": {
   "codemirror_mode": {
    "name": "ipython",
    "version": 3
   },
   "file_extension": ".py",
   "mimetype": "text/x-python",
   "name": "python",
   "nbconvert_exporter": "python",
   "pygments_lexer": "ipython3",
   "version": "3.7.6"
  }
 },
 "nbformat": 4,
 "nbformat_minor": 4
}
